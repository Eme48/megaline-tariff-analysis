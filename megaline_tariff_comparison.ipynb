{
 "cells": [
  {
   "cell_type": "markdown",
   "metadata": {
    "id": "3rYiDeEH0q0f"
   },
   "source": [
    "# ¿Cuál es la mejor tarifa?\n",
    "\n",
    "Trabajas como analista para el operador de telecomunicaciones Megaline. La empresa ofrece a sus clientes dos tarifas de prepago, Surf y Ultimate. El departamento comercial quiere saber cuál de las tarifas genera más ingresos para poder ajustar el presupuesto de publicidad.\n",
    "\n",
    "Vas a realizar un análisis preliminar de las tarifas basado en una selección de clientes relativamente pequeña. Tendrás los datos de 500 clientes de Megaline: quiénes son los clientes, de dónde son, qué tarifa usan, así como la cantidad de llamadas que hicieron y los mensajes de texto que enviaron en 2018. Tu trabajo es analizar el comportamiento de los clientes y determinar qué tarifa de prepago genera más ingresos."
   ]
  },
  {
   "cell_type": "markdown",
   "metadata": {
    "id": "VNddPNRQ0q0w"
   },
   "source": [
    "[Te proporcionamos algunos comentarios para orientarte mientras completas este proyecto. Pero debes asegurarte de eliminar todos los comentarios entre corchetes antes de entregar tu proyecto.]\n",
    "\n",
    "[Antes de sumergirte en el análisis de datos, explica por tu propia cuenta el propósito del proyecto y las acciones que planeas realizar.]\n",
    "\n",
    "[Ten en cuenta que estudiar, modificar y analizar datos es un proceso iterativo. Es normal volver a los pasos anteriores y corregirlos/ampliarlos para permitir nuevos pasos.]"
   ]
  },
  {
   "cell_type": "markdown",
   "metadata": {
    "id": "MQi4IPy70q0y"
   },
   "source": [
    "## Inicialización"
   ]
  },
  {
   "cell_type": "code",
   "execution_count": 1,
   "metadata": {
    "id": "MtYIuBxu0q0z"
   },
   "outputs": [],
   "source": [
    "# Cargar todas las librerías\n",
    "from scipy import stats as st\n",
    "from matplotlib import pyplot as plt\n",
    "import numpy as np\n",
    "import pandas as pd\n",
    "from scipy.stats import ttest_ind\n"
   ]
  },
  {
   "cell_type": "markdown",
   "metadata": {
    "id": "4ysWWC5i0q00"
   },
   "source": [
    "## Cargar datos"
   ]
  },
  {
   "cell_type": "code",
   "execution_count": 2,
   "metadata": {
    "id": "CCqPW7rS0q01"
   },
   "outputs": [],
   "source": [
    "# Carga los archivos de datos en diferentes DataFrames\n",
    "df_users = pd.read_csv(\"/datasets/megaline_users.csv\")\n",
    "df_calls = pd.read_csv(\"/datasets/megaline_calls.csv\")\n",
    "df_messages = pd.read_csv(\"/datasets/megaline_messages.csv\")\n",
    "df_internet = pd.read_csv(\"/datasets/megaline_internet.csv\")\n",
    "df_plans = pd.read_csv(\"/datasets/megaline_plans.csv\")"
   ]
  },
  {
   "cell_type": "markdown",
   "metadata": {
    "id": "69qqoJ3r0q01"
   },
   "source": [
    "## Preparar los datos"
   ]
  },
  {
   "cell_type": "markdown",
   "metadata": {
    "id": "vUuZw80S0q01"
   },
   "source": [
    "[Los datos para este proyecto se dividen en varias tablas. Explora cada una para tener una comprensión inicial de los datos. Si es necesario, haz las correcciones requeridas en cada tabla.]"
   ]
  },
  {
   "cell_type": "markdown",
   "metadata": {
    "id": "ohBhimvH0q01"
   },
   "source": [
    "## Tarifas"
   ]
  },
  {
   "cell_type": "code",
   "execution_count": 3,
   "metadata": {
    "id": "GptqP3Q40q02"
   },
   "outputs": [
    {
     "name": "stdout",
     "output_type": "stream",
     "text": [
      "<class 'pandas.core.frame.DataFrame'>\n",
      "RangeIndex: 2 entries, 0 to 1\n",
      "Data columns (total 8 columns):\n",
      " #   Column                 Non-Null Count  Dtype  \n",
      "---  ------                 --------------  -----  \n",
      " 0   messages_included      2 non-null      int64  \n",
      " 1   mb_per_month_included  2 non-null      int64  \n",
      " 2   minutes_included       2 non-null      int64  \n",
      " 3   usd_monthly_pay        2 non-null      int64  \n",
      " 4   usd_per_gb             2 non-null      int64  \n",
      " 5   usd_per_message        2 non-null      float64\n",
      " 6   usd_per_minute         2 non-null      float64\n",
      " 7   plan_name              2 non-null      object \n",
      "dtypes: float64(2), int64(5), object(1)\n",
      "memory usage: 256.0+ bytes\n"
     ]
    }
   ],
   "source": [
    "# Imprime la información general/resumida sobre el DataFrame de las tarifas\n",
    "\n",
    "df_plans.info()"
   ]
  },
  {
   "cell_type": "code",
   "execution_count": 4,
   "metadata": {
    "id": "64xzjwL70q02"
   },
   "outputs": [
    {
     "name": "stdout",
     "output_type": "stream",
     "text": [
      "   messages_included  mb_per_month_included  minutes_included  \\\n",
      "0                 50                  15360               500   \n",
      "1               1000                  30720              3000   \n",
      "\n",
      "   usd_monthly_pay  usd_per_gb  usd_per_message  usd_per_minute plan_name  \n",
      "0               20          10             0.03            0.03      surf  \n",
      "1               70           7             0.01            0.01  ultimate  \n"
     ]
    }
   ],
   "source": [
    "# Imprime una muestra de los datos para las tarifas\n",
    "\n",
    "print(df_plans.head())"
   ]
  },
  {
   "cell_type": "markdown",
   "metadata": {
    "id": "mEc_3_hs0q02"
   },
   "source": [
    "### Revisión inicial de la tabla \"df_plans\"\n",
    "\n",
    "\n",
    "Al revisar la información general del archivo megaline_plans.csv mediante el método .info(), se observa que el conjunto de datos contiene únicamente 2 registros, correspondientes a los dos planes disponibles: Surf y Ultimate. No se detectan valores nulos en ninguna de las columnas, lo cual es una buena señal.\n",
    "\n",
    "En cuanto a los tipos de datos, todos parecen apropiados: los valores numéricos como precios, límites de uso y tarifas adicionales están correctamente representados como int64 o float64, mientras que los nombres de los planes aparecen como objetos (cadenas de texto).\n",
    "\n",
    "La muestra de datos (.head()) confirma que la estructura es clara y que los nombres de columna son entendibles, aunque un poco técnicos. Por eso, para facilitar el análisis posterior, opté por renombrar algunas columnas, por ejemplo:\n",
    "\n",
    "usd_monthly_pay → monthly_fee_(USD)\n",
    "\n",
    "mb_per_month_included → data_included_(MB)\n",
    "Esto mejora la legibilidad sin alterar la estructura del archivo original.\n",
    "\n",
    "No hay problemas evidentes que requieran limpieza profunda, pero la conversión de los megabytes incluidos a gigabytes puede facilitar comparaciones más claras en etapas posteriores del análisis."
   ]
  },
  {
   "cell_type": "markdown",
   "metadata": {
    "id": "R3C05i1l0q03"
   },
   "source": [
    "## Corregir datos"
   ]
  },
  {
   "cell_type": "markdown",
   "metadata": {
    "id": "bIi8StZI0q03"
   },
   "source": [
    "[Corrige los problemas obvios con los datos basándote en las observaciones iniciales.]"
   ]
  },
  {
   "cell_type": "code",
   "execution_count": 5,
   "metadata": {
    "id": "Y7SVmjGn0q03"
   },
   "outputs": [
    {
     "name": "stdout",
     "output_type": "stream",
     "text": [
      "   messages_included  data_included_(MB)  minutes_included  monthly_fee_(USD)  \\\n",
      "0                 50               15360               500                 20   \n",
      "1               1000               30720              3000                 70   \n",
      "\n",
      "   cost_per_GB_(USD)  cost_per_message_(USD)  cost_per_minute_(USD) plan_name  \n",
      "0                 10                    0.03                   0.03      surf  \n",
      "1                  7                    0.01                   0.01  ultimate  \n"
     ]
    }
   ],
   "source": [
    "df_plans.rename(columns={\n",
    "    \"usd_monthly_pay\": \"monthly_fee_(USD)\",\n",
    "    \"mb_per_month_included\": \"data_included_(MB)\",\n",
    "    \"usd_per_gb\": \"cost_per_GB_(USD)\",\n",
    "    \"usd_per_message\": \"cost_per_message_(USD)\",\n",
    "    \"usd_per_minute\": \"cost_per_minute_(USD)\"\n",
    "}, inplace=True)\n",
    "\n",
    "print(df_plans.head())"
   ]
  },
  {
   "cell_type": "markdown",
   "metadata": {
    "id": "LJir7bml0q03"
   },
   "source": [
    "## Enriquecer los datos"
   ]
  },
  {
   "cell_type": "markdown",
   "metadata": {
    "id": "eqADpCfg0q04"
   },
   "source": [
    "[Agrega factores adicionales a los datos si crees que pudieran ser útiles.]"
   ]
  },
  {
   "cell_type": "code",
   "execution_count": 6,
   "metadata": {
    "id": "gfcIEuXV0q04"
   },
   "outputs": [
    {
     "name": "stdout",
     "output_type": "stream",
     "text": [
      "   messages_included  data_included_(MB)  minutes_included  monthly_fee_(USD)  \\\n",
      "0                 50               15360               500                 20   \n",
      "1               1000               30720              3000                 70   \n",
      "\n",
      "   cost_per_GB_(USD)  cost_per_message_(USD)  cost_per_minute_(USD) plan_name  \\\n",
      "0                 10                    0.03                   0.03      surf   \n",
      "1                  7                    0.01                   0.01  ultimate   \n",
      "\n",
      "   data_included_(GB)                         description  \\\n",
      "0                15.0       Surf: 500 min, 15 GB, $20/mes   \n",
      "1                30.0  Ultimate: 3000 min, 30 GB, $70/mes   \n",
      "\n",
      "   avg_extra_cost_(USD)  \n",
      "0                 5.015  \n",
      "1                 3.505  \n"
     ]
    }
   ],
   "source": [
    "# Convertir los MB incluidos a GB (para comparaciones más prácticas)\n",
    "df_plans[\"data_included_(GB)\"] = df_plans[\"data_included_(MB)\"] / 1024\n",
    "\n",
    "# Crear una columna descriptiva que resuma el contenido de cada plan\n",
    "df_plans[\"description\"] = (\n",
    "    df_plans[\"plan_name\"].str.capitalize() + \": \" +\n",
    "    df_plans[\"minutes_included\"].astype(str) + \" min, \" +\n",
    "    (df_plans[\"data_included_(MB)\"] / 1024).astype(int).astype(str) + \" GB, $\" +\n",
    "    df_plans[\"monthly_fee_(USD)\"].astype(str) + \"/mes\"\n",
    ")\n",
    "\n",
    "# Calcular un costo promedio por excedente (min, SMS y datos)\n",
    "df_plans[\"avg_extra_cost_(USD)\"] = (\n",
    "    df_plans[[\"cost_per_minute_(USD)\", \"cost_per_message_(USD)\"]].mean(axis=1) +\n",
    "    df_plans[\"cost_per_GB_(USD)\"]\n",
    ") / 2\n",
    "\n",
    "# Vista previa del resultado\n",
    "print(df_plans.head())"
   ]
  },
  {
   "cell_type": "markdown",
   "metadata": {
    "id": "1n2X6WXf0q04"
   },
   "source": [
    "## Usuarios/as"
   ]
  },
  {
   "cell_type": "code",
   "execution_count": 7,
   "metadata": {
    "id": "2NgjWFqx0q05"
   },
   "outputs": [
    {
     "name": "stdout",
     "output_type": "stream",
     "text": [
      "<class 'pandas.core.frame.DataFrame'>\n",
      "RangeIndex: 500 entries, 0 to 499\n",
      "Data columns (total 8 columns):\n",
      " #   Column      Non-Null Count  Dtype \n",
      "---  ------      --------------  ----- \n",
      " 0   user_id     500 non-null    int64 \n",
      " 1   first_name  500 non-null    object\n",
      " 2   last_name   500 non-null    object\n",
      " 3   age         500 non-null    int64 \n",
      " 4   city        500 non-null    object\n",
      " 5   reg_date    500 non-null    object\n",
      " 6   plan        500 non-null    object\n",
      " 7   churn_date  34 non-null     object\n",
      "dtypes: int64(2), object(6)\n",
      "memory usage: 31.4+ KB\n"
     ]
    }
   ],
   "source": [
    "# Imprime la información general/resumida sobre el DataFrame de usuarios\n",
    "\n",
    "df_users.info()"
   ]
  },
  {
   "cell_type": "code",
   "execution_count": 8,
   "metadata": {
    "id": "1IN1L9uh0q05"
   },
   "outputs": [
    {
     "name": "stdout",
     "output_type": "stream",
     "text": [
      "   user_id first_name  last_name  age                                   city  \\\n",
      "0     1000   Anamaria      Bauer   45  Atlanta-Sandy Springs-Roswell, GA MSA   \n",
      "1     1001     Mickey  Wilkerson   28        Seattle-Tacoma-Bellevue, WA MSA   \n",
      "2     1002     Carlee    Hoffman   36   Las Vegas-Henderson-Paradise, NV MSA   \n",
      "3     1003   Reynaldo    Jenkins   52                          Tulsa, OK MSA   \n",
      "4     1004    Leonila   Thompson   40        Seattle-Tacoma-Bellevue, WA MSA   \n",
      "\n",
      "     reg_date      plan churn_date  \n",
      "0  2018-12-24  ultimate        NaN  \n",
      "1  2018-08-13      surf        NaN  \n",
      "2  2018-10-21      surf        NaN  \n",
      "3  2018-01-28      surf        NaN  \n",
      "4  2018-05-23      surf        NaN  \n"
     ]
    }
   ],
   "source": [
    "# Imprime una muestra de datos para usuarios\n",
    "\n",
    "print(df_users.head())"
   ]
  },
  {
   "cell_type": "markdown",
   "metadata": {
    "id": "dCZoUq4f0q06"
   },
   "source": [
    "### Revisión inicial de la tabla \"df_users\"\n",
    "\n",
    "\n",
    "La tabla \"megaline_users.csv\" contiene información de 500 usuarios. A través del método .info() puedo confirmar que la mayoría de las columnas están completas y sin valores nulos, con excepción de la columna \"churn_date\", que contiene muchos valores ausentes (solo 34 registros tienen una fecha). Esto tiene sentido, ya que indica usuarios que **no han cancelado el servicio**, por lo tanto, se puede dejar como está sin eliminar ni imputar esos datos.\n",
    "\n",
    "Las columnas \"reg_date\" y \"churn_date\" están en formato _object_, así que será necesario convertirlas a tipo _datetime_ para poder trabajar correctamente con rangos de fechas o agrupar por mes más adelante.\n",
    "\n",
    "También noto que la columna \"plan\" indica correctamente si el usuario está en el plan **Surf** o **Ultimate**, lo cual es fundamental para el análisis posterior de ingresos. Finalmente, las columnas \"first_name\", \"last_name\", \"age\", y \"city\" están en el tipo de dato adecuado y no requieren modificaciones por ahora.\n",
    "\n",
    "En resumen, la tabla está en buen estado general, y el único ajuste necesario es **convertir las fechas a formato de fecha real (datetime)**."
   ]
  },
  {
   "cell_type": "markdown",
   "metadata": {
    "id": "BX5FQh_I0q06"
   },
   "source": [
    "### Corregir los datos"
   ]
  },
  {
   "cell_type": "markdown",
   "metadata": {
    "id": "8OdKMwJv0q06"
   },
   "source": [
    "[Corrige los problemas obvios con los datos basándote en las observaciones iniciales.]"
   ]
  },
  {
   "cell_type": "code",
   "execution_count": 9,
   "metadata": {
    "id": "yUqX-K0C0q07"
   },
   "outputs": [
    {
     "name": "stdout",
     "output_type": "stream",
     "text": [
      "<class 'pandas.core.frame.DataFrame'>\n",
      "RangeIndex: 500 entries, 0 to 499\n",
      "Data columns (total 8 columns):\n",
      " #   Column      Non-Null Count  Dtype         \n",
      "---  ------      --------------  -----         \n",
      " 0   user_id     500 non-null    int64         \n",
      " 1   first_name  500 non-null    object        \n",
      " 2   last_name   500 non-null    object        \n",
      " 3   age         500 non-null    int64         \n",
      " 4   city        500 non-null    object        \n",
      " 5   reg_date    500 non-null    datetime64[ns]\n",
      " 6   plan        500 non-null    object        \n",
      " 7   churn_date  34 non-null     datetime64[ns]\n",
      "dtypes: datetime64[ns](2), int64(2), object(4)\n",
      "memory usage: 31.4+ KB\n",
      "None\n",
      "\n",
      "Valores nulos por columna:\n",
      "user_id         0\n",
      "first_name      0\n",
      "last_name       0\n",
      "age             0\n",
      "city            0\n",
      "reg_date        0\n",
      "plan            0\n",
      "churn_date    466\n",
      "dtype: int64\n"
     ]
    }
   ],
   "source": [
    "# Conversión de fechas en el DataFrame de usuarios\n",
    "\n",
    "# Convertir las columnas de fecha a tipo datetime\n",
    "df_users[\"reg_date\"] = pd.to_datetime(df_users[\"reg_date\"], format=\"%Y-%m-%d\")\n",
    "df_users[\"churn_date\"] = pd.to_datetime(df_users[\"churn_date\"], format=\"%Y-%m-%d\", errors=\"coerce\")\n",
    "\n",
    "# Verificar que las conversiones se hayan aplicado correctamente\n",
    "print(df_users.info())\n",
    "\n",
    "# Comprobar cuántos valores nulos hay por columna\n",
    "print(\"\\nValores nulos por columna:\")\n",
    "print(df_users.isna().sum())"
   ]
  },
  {
   "cell_type": "markdown",
   "metadata": {
    "id": "ycwuARJp0q07"
   },
   "source": [
    "### Enriquecer los datos"
   ]
  },
  {
   "cell_type": "markdown",
   "metadata": {
    "id": "96NIh4CJ0q08"
   },
   "source": [
    "[Agrega factores adicionales a los datos si crees que pudieran ser útiles.]"
   ]
  },
  {
   "cell_type": "code",
   "execution_count": null,
   "metadata": {
    "id": "iq0AaBS90q08"
   },
   "outputs": [],
   "source": []
  },
  {
   "cell_type": "markdown",
   "metadata": {
    "id": "o7MeKCid0q08"
   },
   "source": [
    "## Llamadas"
   ]
  },
  {
   "cell_type": "code",
   "execution_count": 10,
   "metadata": {
    "id": "6dDlnoDm0q08"
   },
   "outputs": [
    {
     "name": "stdout",
     "output_type": "stream",
     "text": [
      "<class 'pandas.core.frame.DataFrame'>\n",
      "RangeIndex: 137735 entries, 0 to 137734\n",
      "Data columns (total 4 columns):\n",
      " #   Column     Non-Null Count   Dtype  \n",
      "---  ------     --------------   -----  \n",
      " 0   id         137735 non-null  object \n",
      " 1   user_id    137735 non-null  int64  \n",
      " 2   call_date  137735 non-null  object \n",
      " 3   duration   137735 non-null  float64\n",
      "dtypes: float64(1), int64(1), object(2)\n",
      "memory usage: 4.2+ MB\n"
     ]
    }
   ],
   "source": [
    "# Imprime la información general/resumida sobre el DataFrame de las llamadas\n",
    "\n",
    "df_calls.info()"
   ]
  },
  {
   "cell_type": "code",
   "execution_count": 11,
   "metadata": {
    "id": "kuh1vlNB0q09"
   },
   "outputs": [
    {
     "name": "stdout",
     "output_type": "stream",
     "text": [
      "         id  user_id   call_date  duration\n",
      "0   1000_93     1000  2018-12-27      8.52\n",
      "1  1000_145     1000  2018-12-27     13.66\n",
      "2  1000_247     1000  2018-12-27     14.48\n",
      "3  1000_309     1000  2018-12-28      5.76\n",
      "4  1000_380     1000  2018-12-30      4.22\n"
     ]
    }
   ],
   "source": [
    "# Imprime una muestra de datos para las llamadas\n",
    "\n",
    "print(df_calls.head())"
   ]
  },
  {
   "cell_type": "markdown",
   "metadata": {
    "id": "DOAxYJSx0q09"
   },
   "source": [
    "### Revisión inicial de la tabla \"df_calls\"\n",
    "\n",
    "La tabla \"megaline_calls.csv\" contiene 137,735 registros, lo cual es razonable considerando que se trata del historial de llamadas de 500 usuarios a lo largo de un año.\n",
    "\n",
    "Según la información general, todas las columnas están completas, sin valores nulos, lo que indica que no será necesario eliminar ni imputar datos. La columna \"call_date\" está en formato _object_, por lo que debe convertirse a _datetime_ para poder agrupar por mes más adelante.\n",
    "\n",
    "La columna _duration_ representa la duración de la llamada en minutos. Sin embargo, de acuerdo con las reglas de negocio de Megaline, **cada llamada individual debe redondearse hacia arriba al minuto más cercano**, incluso si solo dura unos segundos. Por lo tanto, es necesario crear una nueva columna que refleje ese redondeo para poder calcular correctamente los minutos facturados por el usuario.\n",
    "\n",
    "En resumen:\n",
    "- No hay datos faltantes\n",
    "- Los tipos de datos son correctos, salvo la fecha, que debe convertirse\n",
    "- Se requiere una transformación adicional para redondear la duración por llamada"
   ]
  },
  {
   "cell_type": "markdown",
   "metadata": {
    "id": "S7hzxmbX0q0-"
   },
   "source": [
    "### Corregir los datos"
   ]
  },
  {
   "cell_type": "markdown",
   "metadata": {
    "id": "YxWyAjD20q0-"
   },
   "source": [
    "[Corrige los problemas obvios con los datos basándote en las observaciones iniciales.]"
   ]
  },
  {
   "cell_type": "code",
   "execution_count": 12,
   "metadata": {
    "id": "S2r8xA4f0q0-"
   },
   "outputs": [
    {
     "name": "stdout",
     "output_type": "stream",
     "text": [
      "<class 'pandas.core.frame.DataFrame'>\n",
      "RangeIndex: 137735 entries, 0 to 137734\n",
      "Data columns (total 4 columns):\n",
      " #   Column     Non-Null Count   Dtype         \n",
      "---  ------     --------------   -----         \n",
      " 0   id         137735 non-null  object        \n",
      " 1   user_id    137735 non-null  int64         \n",
      " 2   call_date  137735 non-null  datetime64[ns]\n",
      " 3   duration   137735 non-null  float64       \n",
      "dtypes: datetime64[ns](1), float64(1), int64(1), object(1)\n",
      "memory usage: 4.2+ MB\n"
     ]
    }
   ],
   "source": [
    "# Convertir la columna de fecha al tipo datetime\n",
    "df_calls[\"call_date\"] = pd.to_datetime(df_calls[\"call_date\"], format=\"%Y-%m-%d\")\n",
    "\n",
    "df_calls.info()"
   ]
  },
  {
   "cell_type": "markdown",
   "metadata": {
    "id": "KrMgTrlG0q0_"
   },
   "source": [
    "### Enriquecer los datos"
   ]
  },
  {
   "cell_type": "markdown",
   "metadata": {
    "id": "a9MbmEvE0q0_"
   },
   "source": [
    "[Agrega factores adicionales a los datos si crees que pudieran ser útiles.]"
   ]
  },
  {
   "cell_type": "code",
   "execution_count": 13,
   "metadata": {
    "id": "iZ1avpA_0q0_"
   },
   "outputs": [
    {
     "name": "stdout",
     "output_type": "stream",
     "text": [
      "   call_date  duration  duration_rounded\n",
      "0 2018-12-27      8.52               9.0\n",
      "1 2018-12-27     13.66              14.0\n",
      "2 2018-12-27     14.48              15.0\n",
      "3 2018-12-28      5.76               6.0\n",
      "4 2018-12-30      4.22               5.0\n"
     ]
    }
   ],
   "source": [
    "# Crear una nueva columna con el redondeo hacia arriba por llamada\n",
    "df_calls[\"duration_rounded\"] = np.ceil(df_calls[\"duration\"])\n",
    "\n",
    "# Verificación rápida\n",
    "print(df_calls[[\"call_date\", \"duration\", \"duration_rounded\"]].head())"
   ]
  },
  {
   "cell_type": "markdown",
   "metadata": {
    "id": "mOUZSi180q0_"
   },
   "source": [
    "## Mensajes"
   ]
  },
  {
   "cell_type": "code",
   "execution_count": 14,
   "metadata": {
    "id": "R-bYJpdV0q1A"
   },
   "outputs": [
    {
     "name": "stdout",
     "output_type": "stream",
     "text": [
      "<class 'pandas.core.frame.DataFrame'>\n",
      "RangeIndex: 76051 entries, 0 to 76050\n",
      "Data columns (total 3 columns):\n",
      " #   Column        Non-Null Count  Dtype \n",
      "---  ------        --------------  ----- \n",
      " 0   id            76051 non-null  object\n",
      " 1   user_id       76051 non-null  int64 \n",
      " 2   message_date  76051 non-null  object\n",
      "dtypes: int64(1), object(2)\n",
      "memory usage: 1.7+ MB\n"
     ]
    }
   ],
   "source": [
    "# Imprime la información general/resumida sobre el DataFrame de los mensajes\n",
    "\n",
    "df_messages.info()"
   ]
  },
  {
   "cell_type": "code",
   "execution_count": 15,
   "metadata": {
    "id": "mCEl2iGE0q1A"
   },
   "outputs": [
    {
     "name": "stdout",
     "output_type": "stream",
     "text": [
      "         id  user_id message_date\n",
      "0  1000_125     1000   2018-12-27\n",
      "1  1000_160     1000   2018-12-31\n",
      "2  1000_223     1000   2018-12-31\n",
      "3  1000_251     1000   2018-12-27\n",
      "4  1000_255     1000   2018-12-26\n"
     ]
    }
   ],
   "source": [
    "# Imprime una muestra de datos para los mensajes\n",
    "\n",
    "print(df_messages.head())"
   ]
  },
  {
   "cell_type": "markdown",
   "metadata": {
    "id": "04xDj7KH0q1A"
   },
   "source": [
    "### Revisión inicial de la tabla \"df_messages\"\n",
    "\n",
    "La tabla \"megaline_messages.csv\" contiene 76,051 registros, lo cual parece razonable para una muestra de 500 usuarios a lo largo de un año. Cada fila representa un mensaje de texto enviado por un usuario.\n",
    "\n",
    "La información general indica que no hay valores nulos en ninguna de las columnas, por lo que no es necesario eliminar ni imputar datos. Sin embargo, la columna \"message_date\" está en formato _object_, por lo que es necesario convertirla a tipo _datetime_ para poder agrupar correctamente por mes en los análisis posteriores.\n",
    "\n",
    "Dado que cada fila representa un único SMS enviado, no se requiere ninguna transformación adicional como en el caso de las llamadas.\n",
    "\n",
    "En resumen:\n",
    "\n",
    "- No hay datos faltantes\n",
    "- Los tipos de datos son adecuados, excepto la fecha\n",
    "- Se debe convertir _message_date_ a _datetime_"
   ]
  },
  {
   "cell_type": "markdown",
   "metadata": {
    "id": "Sprfak900q1B"
   },
   "source": [
    "### Corregir los datos"
   ]
  },
  {
   "cell_type": "markdown",
   "metadata": {
    "id": "eGw7d9j10q1B"
   },
   "source": [
    "[Corrige los problemas obvios con los datos basándote en las observaciones iniciales.]"
   ]
  },
  {
   "cell_type": "code",
   "execution_count": 16,
   "metadata": {
    "id": "vsllvkoa0q1B"
   },
   "outputs": [
    {
     "name": "stdout",
     "output_type": "stream",
     "text": [
      "<class 'pandas.core.frame.DataFrame'>\n",
      "RangeIndex: 76051 entries, 0 to 76050\n",
      "Data columns (total 3 columns):\n",
      " #   Column        Non-Null Count  Dtype         \n",
      "---  ------        --------------  -----         \n",
      " 0   id            76051 non-null  object        \n",
      " 1   user_id       76051 non-null  int64         \n",
      " 2   message_date  76051 non-null  datetime64[ns]\n",
      "dtypes: datetime64[ns](1), int64(1), object(1)\n",
      "memory usage: 1.7+ MB\n",
      "\n",
      "         id  user_id message_date\n",
      "0  1000_125     1000   2018-12-27\n",
      "1  1000_160     1000   2018-12-31\n",
      "2  1000_223     1000   2018-12-31\n",
      "3  1000_251     1000   2018-12-27\n",
      "4  1000_255     1000   2018-12-26\n"
     ]
    }
   ],
   "source": [
    "# Convertir la columna de fecha de mensaje a tipo datetime\n",
    "df_messages[\"message_date\"] = pd.to_datetime(df_messages[\"message_date\"], format=\"%Y-%m-%d\")\n",
    "\n",
    "# Verificación rápida\n",
    "df_messages.info()\n",
    "print()\n",
    "print(df_messages.head())"
   ]
  },
  {
   "cell_type": "markdown",
   "metadata": {
    "id": "HvLid7iD0q1B"
   },
   "source": [
    "### Enriquecer los datos"
   ]
  },
  {
   "cell_type": "markdown",
   "metadata": {
    "id": "8nhPFKIe0q1C"
   },
   "source": [
    "[Agrega factores adicionales a los datos si crees que pudieran ser útiles.]"
   ]
  },
  {
   "cell_type": "code",
   "execution_count": null,
   "metadata": {
    "id": "zYEXZac10q1C"
   },
   "outputs": [],
   "source": []
  },
  {
   "cell_type": "markdown",
   "metadata": {
    "id": "bStkaxn40q1C"
   },
   "source": [
    "## Internet"
   ]
  },
  {
   "cell_type": "code",
   "execution_count": 17,
   "metadata": {
    "id": "e-Uz5qyn0q1C"
   },
   "outputs": [
    {
     "name": "stdout",
     "output_type": "stream",
     "text": [
      "<class 'pandas.core.frame.DataFrame'>\n",
      "RangeIndex: 104825 entries, 0 to 104824\n",
      "Data columns (total 4 columns):\n",
      " #   Column        Non-Null Count   Dtype  \n",
      "---  ------        --------------   -----  \n",
      " 0   id            104825 non-null  object \n",
      " 1   user_id       104825 non-null  int64  \n",
      " 2   session_date  104825 non-null  object \n",
      " 3   mb_used       104825 non-null  float64\n",
      "dtypes: float64(1), int64(1), object(2)\n",
      "memory usage: 3.2+ MB\n"
     ]
    }
   ],
   "source": [
    "# Imprime la información general/resumida sobre el DataFrame de internet\n",
    "\n",
    "df_internet.info()"
   ]
  },
  {
   "cell_type": "code",
   "execution_count": 18,
   "metadata": {
    "id": "9r3x_XLw0q1C"
   },
   "outputs": [
    {
     "name": "stdout",
     "output_type": "stream",
     "text": [
      "         id  user_id session_date  mb_used\n",
      "0   1000_13     1000   2018-12-29    89.86\n",
      "1  1000_204     1000   2018-12-31     0.00\n",
      "2  1000_379     1000   2018-12-28   660.40\n",
      "3  1000_413     1000   2018-12-26   270.99\n",
      "4  1000_442     1000   2018-12-27   880.22\n"
     ]
    }
   ],
   "source": [
    "# Imprime una muestra de datos para el tráfico de internet\n",
    "\n",
    "print(df_internet.head())"
   ]
  },
  {
   "cell_type": "markdown",
   "metadata": {
    "id": "EzOG5ik30q1D"
   },
   "source": [
    "### Revisión inicial de la tabla \"df_internet\"\n",
    "\n",
    "La tabla \"megaline_internet.csv\" contiene 104,825 registros. Cada fila representa una sesión de navegación web realizada por un usuario, con el volumen de datos consumido expresado en megabytes (\"mb_used\").\n",
    "\n",
    "La revisión con .info() muestra que no hay datos nulos y que los tipos de datos son adecuados, salvo por la columna \"session_date\", que está como _object_ y debe convertirse a _datetime_ para permitir agrupar por mes más adelante.\n",
    "\n",
    "No se requiere ninguna transformación inmediata sobre los datos consumidos por sesión, ya que, según la política de Megaline, el redondeo hacia arriba se realiza **una vez al mes**, no por sesión individual.\n",
    "\n",
    "En resumen:\n",
    "\n",
    "- No hay datos faltantes\n",
    "- Tipos de datos adecuados, excepto la fecha\n",
    "- Es necesario convertir \"session_date\" a _datetime_"
   ]
  },
  {
   "cell_type": "markdown",
   "metadata": {
    "id": "yA0tkPFg0q1D"
   },
   "source": [
    "### Corregir los datos"
   ]
  },
  {
   "cell_type": "markdown",
   "metadata": {
    "id": "zlZMuIEK0q1D"
   },
   "source": [
    "[Corrige los problemas obvios con los datos basándote en las observaciones iniciales.]"
   ]
  },
  {
   "cell_type": "code",
   "execution_count": 19,
   "metadata": {
    "id": "zVeanzdd0q1E"
   },
   "outputs": [
    {
     "name": "stdout",
     "output_type": "stream",
     "text": [
      "<class 'pandas.core.frame.DataFrame'>\n",
      "RangeIndex: 104825 entries, 0 to 104824\n",
      "Data columns (total 4 columns):\n",
      " #   Column        Non-Null Count   Dtype         \n",
      "---  ------        --------------   -----         \n",
      " 0   id            104825 non-null  object        \n",
      " 1   user_id       104825 non-null  int64         \n",
      " 2   session_date  104825 non-null  datetime64[ns]\n",
      " 3   mb_used       104825 non-null  float64       \n",
      "dtypes: datetime64[ns](1), float64(1), int64(1), object(1)\n",
      "memory usage: 3.2+ MB\n",
      "\n",
      "         id  user_id session_date  mb_used\n",
      "0   1000_13     1000   2018-12-29    89.86\n",
      "1  1000_204     1000   2018-12-31     0.00\n",
      "2  1000_379     1000   2018-12-28   660.40\n",
      "3  1000_413     1000   2018-12-26   270.99\n",
      "4  1000_442     1000   2018-12-27   880.22\n"
     ]
    }
   ],
   "source": [
    "# Convertir la columna de fecha de sesión web a tipo datetime\n",
    "df_internet[\"session_date\"] = pd.to_datetime(df_internet[\"session_date\"], format=\"%Y-%m-%d\")\n",
    "\n",
    "# Verificación rápida\n",
    "df_internet.info()\n",
    "print()\n",
    "print(df_internet.head())"
   ]
  },
  {
   "cell_type": "markdown",
   "metadata": {
    "id": "e8_mLF4a0q1E"
   },
   "source": [
    "### Enriquecer los datos"
   ]
  },
  {
   "cell_type": "markdown",
   "metadata": {
    "id": "xhNdn2tE0q1E"
   },
   "source": [
    "[Agrega factores adicionales a los datos si crees que pudieran ser útiles.]"
   ]
  },
  {
   "cell_type": "code",
   "execution_count": null,
   "metadata": {
    "id": "ESiYPIEK0q1E"
   },
   "outputs": [],
   "source": []
  },
  {
   "cell_type": "markdown",
   "metadata": {
    "id": "3UA2cqIW0q1E"
   },
   "source": [
    "## Estudiar las condiciones de las tarifas"
   ]
  },
  {
   "cell_type": "markdown",
   "metadata": {
    "id": "T86Sqltq0q1F"
   },
   "source": [
    "[Es sumamente importante entender cómo funcionan las tarifas, cómo se les cobra a los usuarios en función de su plan de suscripción. Así que te sugerimos imprimir la información de la tarifa para ver una vez más sus condiciones.]"
   ]
  },
  {
   "cell_type": "code",
   "execution_count": 20,
   "metadata": {
    "id": "i409op8p0q1F"
   },
   "outputs": [
    {
     "name": "stdout",
     "output_type": "stream",
     "text": [
      "   messages_included  data_included_(MB)  minutes_included  monthly_fee_(USD)  \\\n",
      "0                 50               15360               500                 20   \n",
      "1               1000               30720              3000                 70   \n",
      "\n",
      "   cost_per_GB_(USD)  cost_per_message_(USD)  cost_per_minute_(USD) plan_name  \\\n",
      "0                 10                    0.03                   0.03      surf   \n",
      "1                  7                    0.01                   0.01  ultimate   \n",
      "\n",
      "   data_included_(GB)                         description  \\\n",
      "0                15.0       Surf: 500 min, 15 GB, $20/mes   \n",
      "1                30.0  Ultimate: 3000 min, 30 GB, $70/mes   \n",
      "\n",
      "   avg_extra_cost_(USD)  \n",
      "0                 5.015  \n",
      "1                 3.505  \n"
     ]
    }
   ],
   "source": [
    "# Imprime las condiciones de la tarifa y asegúrate de que te quedan claras\n",
    "\n",
    "print(df_plans.head())"
   ]
  },
  {
   "cell_type": "markdown",
   "metadata": {
    "id": "hMR1tP5d0q1F"
   },
   "source": [
    "## Agregar datos por usuario\n",
    "\n",
    "[Ahora que los datos están limpios, agrega los datos por usuario y por periodo para que solo haya un registro por usuario y por periodo. Esto facilitará mucho el análisis posterior.]"
   ]
  },
  {
   "cell_type": "code",
   "execution_count": 21,
   "metadata": {
    "id": "A332cedB0q1G"
   },
   "outputs": [
    {
     "name": "stdout",
     "output_type": "stream",
     "text": [
      "   user_id  month  call_count\n",
      "0     1000     12          16\n",
      "1     1001      8          27\n",
      "2     1001      9          49\n",
      "3     1001     10          65\n",
      "4     1001     11          64\n"
     ]
    }
   ],
   "source": [
    "# Calcula el número de llamadas hechas por cada usuario al mes. Guarda el resultado.\n",
    "\n",
    "# Asegurarse de que call_date esté en formato datetime\n",
    "df_calls[\"call_date\"] = pd.to_datetime(df_calls[\"call_date\"], format=\"%Y-%m-%d\", errors=\"coerce\")\n",
    "\n",
    "# Extraer el mes en una nueva columna\n",
    "df_calls[\"month\"] = df_calls[\"call_date\"].dt.month\n",
    "\n",
    "# Contar el número de llamadas por usuario y mes\n",
    "call_counts = df_calls.groupby([\"user_id\", \"month\"]).size().reset_index(name=\"call_count\")\n",
    "\n",
    "# Ver los primeros registros\n",
    "print(call_counts.head())"
   ]
  },
  {
   "cell_type": "code",
   "execution_count": 22,
   "metadata": {
    "id": "aw2cmuql0q1G"
   },
   "outputs": [
    {
     "name": "stdout",
     "output_type": "stream",
     "text": [
      "   user_id  month  total_minutes\n",
      "0     1000     12          124.0\n",
      "1     1001      8          182.0\n",
      "2     1001      9          315.0\n",
      "3     1001     10          393.0\n",
      "4     1001     11          426.0\n"
     ]
    }
   ],
   "source": [
    "# Calcula la cantidad de minutos usados por cada usuario al mes. Guarda el resultado.\n",
    "\n",
    "# Crear la columna con duración redondeada hacia arriba\n",
    "df_calls[\"duration_rounded\"] = np.ceil(df_calls[\"duration\"])\n",
    "\n",
    "# Calcular la suma total de minutos redondeados por usuario y mes\n",
    "minutes_per_month = df_calls.groupby([\"user_id\", \"month\"])[\"duration_rounded\"].sum().reset_index()\n",
    "\n",
    "# Renombrar la columna para mayor claridad\n",
    "minutes_per_month.rename(columns={\"duration_rounded\": \"total_minutes\"}, inplace=True)\n",
    "\n",
    "# Ver los primeros resultados\n",
    "print(minutes_per_month.head())"
   ]
  },
  {
   "cell_type": "code",
   "execution_count": 23,
   "metadata": {
    "id": "CcQvNHn60q1G"
   },
   "outputs": [
    {
     "name": "stdout",
     "output_type": "stream",
     "text": [
      "   user_id  month  sms_count\n",
      "0     1000     12         11\n",
      "1     1001      8         30\n",
      "2     1001      9         44\n",
      "3     1001     10         53\n",
      "4     1001     11         36\n"
     ]
    }
   ],
   "source": [
    "# Calcula el número de mensajes enviados por cada usuario al mes. Guarda el resultado.\n",
    "\n",
    "# Asegurarse de que la fecha esté en formato datetime\n",
    "df_messages[\"message_date\"] = pd.to_datetime(df_messages[\"message_date\"], format=\"%Y-%m-%d\", errors=\"coerce\")\n",
    "\n",
    "# Extraer el mes\n",
    "df_messages[\"month\"] = df_messages[\"message_date\"].dt.month\n",
    "\n",
    "# Contar cantidad de mensajes por usuario y mes\n",
    "messages_per_month = df_messages.groupby([\"user_id\", \"month\"]).size().reset_index(name=\"sms_count\")\n",
    "\n",
    "# Ver los primeros resultados\n",
    "print(messages_per_month.head())"
   ]
  },
  {
   "cell_type": "code",
   "execution_count": 24,
   "metadata": {
    "id": "H1AqN2eG0q1H"
   },
   "outputs": [
    {
     "name": "stdout",
     "output_type": "stream",
     "text": [
      "   user_id  month  total_mb  gb_used\n",
      "0     1000     12   1901.47      2.0\n",
      "1     1001      8   6919.15      7.0\n",
      "2     1001      9  13314.82     14.0\n",
      "3     1001     10  22330.49     22.0\n",
      "4     1001     11  18504.30     19.0\n"
     ]
    }
   ],
   "source": [
    "# Calcula el volumen del tráfico de Internet usado por cada usuario al mes. Guarda el resultado.\n",
    "\n",
    "# Asegurarse de que la fecha esté en formato datetime\n",
    "df_internet[\"session_date\"] = pd.to_datetime(df_internet[\"session_date\"], format=\"%Y-%m-%d\", errors=\"coerce\")\n",
    "\n",
    "# Extraer el mes\n",
    "df_internet[\"month\"] = df_internet[\"session_date\"].dt.month\n",
    "\n",
    "# Calcular el volumen total de datos usados por usuario y mes\n",
    "internet_per_month = df_internet.groupby([\"user_id\", \"month\"])[\"mb_used\"].sum().reset_index()\n",
    "\n",
    "# Renombrar la columna para mayor claridad\n",
    "internet_per_month.rename(columns={\"mb_used\": \"total_mb\"}, inplace=True)\n",
    "\n",
    "# Redondear el total mensual de MB a GB (hacia arriba)\n",
    "internet_per_month[\"gb_used\"] = np.ceil(internet_per_month[\"total_mb\"] / 1024)\n",
    "\n",
    "# Ver los primeros resultados\n",
    "print(internet_per_month.head())"
   ]
  },
  {
   "cell_type": "markdown",
   "metadata": {
    "id": "VDfYXnj80q1H"
   },
   "source": [
    "[Junta los datos agregados en un DataFrame para que haya un registro que represente lo que consumió un usuario único en un mes determinado.]"
   ]
  },
  {
   "cell_type": "code",
   "execution_count": 25,
   "metadata": {
    "id": "FW99ykyf0q1H"
   },
   "outputs": [
    {
     "name": "stdout",
     "output_type": "stream",
     "text": [
      "   user_id  month  call_count  total_minutes  sms_count  total_mb  gb_used\n",
      "0     1000     12          16            124         11      1901        2\n",
      "1     1001      8          27            182         30      6919        7\n",
      "2     1001      9          49            315         44     13314       14\n",
      "3     1001     10          65            393         53     22330       22\n",
      "4     1001     11          64            426         36     18504       19\n"
     ]
    }
   ],
   "source": [
    "# Fusiona los datos de llamadas, minutos, mensajes e Internet con base en user_id y month\n",
    "\n",
    "# Llamadas + Minutos\n",
    "df_usage = call_counts.merge(minutes_per_month, on=[\"user_id\", \"month\"], how=\"outer\")\n",
    "\n",
    "# Agregar SMS\n",
    "df_usage = df_usage.merge(messages_per_month, on=[\"user_id\", \"month\"], how=\"outer\")\n",
    "\n",
    "# Agregar datos de Internet\n",
    "df_usage = df_usage.merge(internet_per_month, on=[\"user_id\", \"month\"], how=\"outer\")\n",
    "\n",
    "# Rellenar valores nulos con 0 (cuando el usuario no usó algún servicio ese mes)\n",
    "df_usage.fillna(0, inplace=True)\n",
    "\n",
    "# Convertir las columnas relevantes a tipo entero\n",
    "df_usage[[\"call_count\", \"total_minutes\", \"sms_count\", \"total_mb\", \"gb_used\"]] = df_usage[\n",
    "    [\"call_count\", \"total_minutes\", \"sms_count\", \"total_mb\", \"gb_used\"]\n",
    "].astype(int)\n",
    "\n",
    "# Mostrar una vista previa\n",
    "print(df_usage.head())"
   ]
  },
  {
   "cell_type": "code",
   "execution_count": 26,
   "metadata": {
    "id": "0dNOXHag0q1H"
   },
   "outputs": [
    {
     "name": "stdout",
     "output_type": "stream",
     "text": [
      "   user_id  month  call_count  total_minutes  sms_count  total_mb  gb_used  \\\n",
      "0     1000     12          16            124         11      1901        2   \n",
      "1     1001      8          27            182         30      6919        7   \n",
      "2     1001      9          49            315         44     13314       14   \n",
      "3     1001     10          65            393         53     22330       22   \n",
      "4     1001     11          64            426         36     18504       19   \n",
      "\n",
      "       plan  \n",
      "0  ultimate  \n",
      "1      surf  \n",
      "2      surf  \n",
      "3      surf  \n",
      "4      surf  \n"
     ]
    }
   ],
   "source": [
    "# Añade la información de la tarifa\n",
    "\n",
    "df_usage = df_usage.merge(df_users[[\"user_id\", \"plan\"]], on=\"user_id\", how=\"left\")\n",
    "\n",
    "# Vista previa del resultado\n",
    "print(df_usage.head())"
   ]
  },
  {
   "cell_type": "markdown",
   "metadata": {
    "id": "1IwGo4wg0q1I"
   },
   "source": [
    "[Calcula los ingresos mensuales por usuario (resta el límite del paquete gratuito del número total de llamadas, mensajes de texto y datos; multiplica el resultado por el valor del plan de llamadas; añade la tarifa mensual en función del plan de llamadas). Nota: Dadas las condiciones del plan, ¡esto podría no ser tan trivial como un par de líneas! Así que no pasa nada si dedicas algo de tiempo a ello.]"
   ]
  },
  {
   "cell_type": "code",
   "execution_count": 27,
   "metadata": {
    "id": "5FGCf_c60q1I"
   },
   "outputs": [
    {
     "name": "stdout",
     "output_type": "stream",
     "text": [
      "   user_id  month      plan  revenue\n",
      "0     1000     12  ultimate    70.00\n",
      "1     1001      8      surf    20.00\n",
      "2     1001      9      surf    20.00\n",
      "3     1001     10      surf    90.09\n",
      "4     1001     11      surf    60.00\n"
     ]
    }
   ],
   "source": [
    "# Calcula el ingreso mensual para cada usuario\n",
    "\n",
    "# Unir con las especificaciones del plan\n",
    "df_usage = df_usage.merge(df_plans, left_on=\"plan\", right_on=\"plan_name\", how=\"left\")\n",
    "\n",
    "# Calcular excedentes\n",
    "df_usage[\"extra_minutes\"] = (df_usage[\"total_minutes\"] - df_usage[\"minutes_included\"]).clip(lower=0)\n",
    "df_usage[\"extra_sms\"] = (df_usage[\"sms_count\"] - df_usage[\"messages_included\"]).clip(lower=0)\n",
    "df_usage[\"extra_gb\"] = (df_usage[\"gb_used\"] - df_usage[\"data_included_(MB)\"] / 1024).clip(lower=0)\n",
    "\n",
    "# Calcular ingresos mensuales\n",
    "df_usage[\"revenue\"] = (\n",
    "    df_usage[\"monthly_fee_(USD)\"]\n",
    "    + df_usage[\"extra_minutes\"] * df_usage[\"cost_per_minute_(USD)\"]\n",
    "    + df_usage[\"extra_sms\"] * df_usage[\"cost_per_message_(USD)\"]\n",
    "    + df_usage[\"extra_gb\"] * df_usage[\"cost_per_GB_(USD)\"]\n",
    ").round(2)\n",
    "\n",
    "# Ver los primeros resultados\n",
    "print(df_usage[[\"user_id\", \"month\", \"plan\", \"revenue\"]].head())"
   ]
  },
  {
   "cell_type": "markdown",
   "metadata": {
    "id": "-jtyHzJb0q1I"
   },
   "source": [
    "## Estudia el comportamiento de usuario"
   ]
  },
  {
   "cell_type": "markdown",
   "metadata": {
    "id": "AxU3Y0N70q1J"
   },
   "source": [
    "[Calcula algunas estadísticas descriptivas para los datos agregados y fusionados que nos sean útiles y que muestren un panorama general captado por los datos. Dibuja gráficos útiles para facilitar la comprensión. Dado que la tarea principal es comparar las tarifas y decidir cuál es más rentable, las estadísticas y gráficas deben calcularse por tarifa.]\n",
    "\n",
    "[En los comentarios hallarás pistas relevantes para las llamadas, pero no las hay para los mensajes e Internet. Sin embargo, el principio del estudio estadístico que se aplica para ellos es el mismo que para las llamadas.]"
   ]
  },
  {
   "cell_type": "markdown",
   "metadata": {
    "id": "vtW4CJEe0q1J"
   },
   "source": [
    "### Llamadas"
   ]
  },
  {
   "cell_type": "code",
   "execution_count": 28,
   "metadata": {
    "id": "Jf5v5--k0q1J"
   },
   "outputs": [
    {
     "data": {
      "image/png": "[encoded data removed]",
      "text/plain": [
       "<Figure size 1000x600 with 1 Axes>"
      ]
     },
     "metadata": {},
     "output_type": "display_data"
    }
   ],
   "source": [
    "# Compara la duración promedio de llamadas por cada plan y por cada mes. Traza un gráfico de barras para visualizarla.\n",
    "\n",
    "# Calcular duración promedio de llamadas por plan y mes\n",
    "avg_minutes_by_plan = df_usage.groupby([\"plan\", \"month\"])[\"total_minutes\"].mean().reset_index()\n",
    "\n",
    "# Crear gráfico de barras\n",
    "plt.figure(figsize=(10, 6))\n",
    "\n",
    "# Graficar cada plan con una pequeña separación horizontal\n",
    "for plan in avg_minutes_by_plan[\"plan\"].unique():\n",
    "    subset = avg_minutes_by_plan[avg_minutes_by_plan[\"plan\"] == plan]\n",
    "    plt.bar(\n",
    "        subset[\"month\"] + (0.2 if plan == \"ultimate\" else -0.2),\n",
    "        subset[\"total_minutes\"],\n",
    "        width=0.4,\n",
    "        label=plan.capitalize()\n",
    "    )\n",
    "\n",
    "# Personalización del gráfico\n",
    "plt.title(\"Duración promedio de llamadas por mes y plan\")\n",
    "plt.xlabel(\"Mes\")\n",
    "plt.ylabel(\"Minutos promedio\")\n",
    "plt.xticks(range(1, 13))\n",
    "plt.legend()\n",
    "plt.grid(axis='y')\n",
    "plt.tight_layout()\n",
    "plt.show()"
   ]
  },
  {
   "cell_type": "code",
   "execution_count": 29,
   "metadata": {
    "id": "QoLqW1S_0q1J"
   },
   "outputs": [
    {
     "data": {
      "image/png": "[encoded data removed]",
      "text/plain": [
       "<Figure size 1000x600 with 1 Axes>"
      ]
     },
     "metadata": {},
     "output_type": "display_data"
    }
   ],
   "source": [
    "# Compara el número de minutos mensuales que necesitan los usuarios de cada plan. Traza un histograma.\n",
    "\n",
    "plt.figure(figsize=(10, 6))\n",
    "\n",
    "# Usuarios con plan Surf\n",
    "surf_minutes = df_usage[df_usage[\"plan\"] == \"surf\"][\"total_minutes\"]\n",
    "plt.hist(surf_minutes, bins=30, alpha=0.6, label=\"Surf\")\n",
    "\n",
    "# Usuarios con plan Ultimate\n",
    "ultimate_minutes = df_usage[df_usage[\"plan\"] == \"ultimate\"][\"total_minutes\"]\n",
    "plt.hist(ultimate_minutes, bins=30, alpha=0.6, label=\"Ultimate\")\n",
    "\n",
    "plt.title(\"Distribución de minutos mensuales por plan\")\n",
    "plt.xlabel(\"Minutos utilizados al mes\")\n",
    "plt.ylabel(\"Cantidad de usuarios\")\n",
    "plt.legend()\n",
    "plt.grid(axis='y')\n",
    "plt.tight_layout()\n",
    "plt.show()"
   ]
  },
  {
   "cell_type": "markdown",
   "metadata": {
    "id": "bLS9T8OH0q1K"
   },
   "source": [
    "[Calcula la media y la variable de la duración de las llamadas para averiguar si los usuarios de los distintos planes se comportan de forma diferente al realizar sus llamadas.]"
   ]
  },
  {
   "cell_type": "code",
   "execution_count": 30,
   "metadata": {
    "id": "oSndbAnt0q1K"
   },
   "outputs": [
    {
     "name": "stdout",
     "output_type": "stream",
     "text": [
      "       plan  mean_minutes   var_minutes\n",
      "0      surf    428.749523  54968.279461\n",
      "1  ultimate    430.450000  57844.464812\n"
     ]
    }
   ],
   "source": [
    "# Calcula la media y la varianza de la duración mensual de llamadas.\n",
    "\n",
    "call_stats = df_usage.groupby(\"plan\")[\"total_minutes\"].agg([\"mean\", \"var\"]).reset_index()\n",
    "\n",
    "# Renombrar columnas para mejor legibilidad\n",
    "call_stats.rename(columns={\"mean\": \"mean_minutes\", \"var\": \"var_minutes\"}, inplace=True)\n",
    "\n",
    "# Mostrar los resultados\n",
    "print(call_stats)"
   ]
  },
  {
   "cell_type": "code",
   "execution_count": 31,
   "metadata": {
    "id": "nZzoRUKc0q1K",
    "scrolled": true
   },
   "outputs": [
    {
     "data": {
      "text/plain": [
       "<Figure size 800x600 with 0 Axes>"
      ]
     },
     "metadata": {},
     "output_type": "display_data"
    },
    {
     "data": {
      "image/png": "[encoded data removed]",
      "text/plain": [
       "<Figure size 640x480 with 1 Axes>"
      ]
     },
     "metadata": {},
     "output_type": "display_data"
    }
   ],
   "source": [
    "# Traza un diagrama de caja para visualizar la distribución de la duración mensual de llamadas\n",
    "\n",
    "plt.figure(figsize=(8, 6))\n",
    "df_usage.boxplot(column=\"total_minutes\", by=\"plan\")\n",
    "plt.title(\"Distribución de duración mensual de llamadas por plan\")\n",
    "plt.suptitle(\"\")  # Elimina el título automático\n",
    "plt.xlabel(\"Plan\")\n",
    "plt.ylabel(\"Minutos al mes\")\n",
    "plt.grid(axis='y')\n",
    "plt.tight_layout()\n",
    "plt.show()"
   ]
  },
  {
   "cell_type": "markdown",
   "metadata": {
    "id": "r627zBO50q1K"
   },
   "source": [
    "#### Conclusiones sobre el comportamiento de los usuarios con respecto a las llamadas\n",
    "\n",
    "A partir del análisis realizado sobre la duración mensual de llamadas, se pueden destacar las siguientes observaciones:\n",
    "\n",
    "- La media y mediana de minutos utilizados por mes son muy similares entre los planes Surf y Ultimate, lo que sugiere que, en promedio, los usuarios de ambos planes hablan una cantidad similar de tiempo.\n",
    "\n",
    "- Sin embargo, el plan Ultimate muestra una mayor varianza y presencia de valores atípicos, lo cual indica que dentro de ese grupo hay usuarios que realizan muchas más llamadas que el promedio.\n",
    "\n",
    "- El diagrama de caja refuerza esta idea: los usuarios de Ultimate presentan una mayor dispersión en los datos, con algunos casos extremos de alto uso.\n",
    "\n",
    "- En cambio, los usuarios de Surf tienen un comportamiento más homogéneo, con una menor dispersión en los minutos utilizados y menos valores extremos.\n",
    "\n",
    "En resumen, aunque ambos grupos tienen un uso promedio de minutos similar, los usuarios del plan Ultimate muestran una mayor diversidad en su comportamiento: algunos lo aprovechan intensamente, mientras que otros apenas superan el uso de un plan básico.\n",
    "\n"
   ]
  },
  {
   "cell_type": "markdown",
   "metadata": {
    "id": "8idKy8Wh0q1L"
   },
   "source": [
    "### Mensajes"
   ]
  },
  {
   "cell_type": "code",
   "execution_count": 32,
   "metadata": {
    "id": "NXLxiTit0q1L"
   },
   "outputs": [
    {
     "data": {
      "image/png": "[encoded data removed]",
      "text/plain": [
       "<Figure size 1000x600 with 1 Axes>"
      ]
     },
     "metadata": {},
     "output_type": "display_data"
    }
   ],
   "source": [
    "# Comprara el número de mensajes que tienden a enviar cada mes los usuarios de cada plan\n",
    "\n",
    "plt.figure(figsize=(10, 6))\n",
    "\n",
    "# Usuarios con plan Surf\n",
    "surf_sms = df_usage[df_usage[\"plan\"] == \"surf\"][\"sms_count\"]\n",
    "plt.hist(surf_sms, bins=30, alpha=0.6, label=\"Surf\")\n",
    "\n",
    "# Usuarios con plan Ultimate\n",
    "ultimate_sms = df_usage[df_usage[\"plan\"] == \"ultimate\"][\"sms_count\"]\n",
    "plt.hist(ultimate_sms, bins=30, alpha=0.6, label=\"Ultimate\")\n",
    "\n",
    "# Personalización del gráfico\n",
    "plt.title(\"Distribución de SMS mensuales por plan\")\n",
    "plt.xlabel(\"SMS enviados al mes\")\n",
    "plt.ylabel(\"Cantidad de usuarios\")\n",
    "plt.legend()\n",
    "plt.grid(axis='y')\n",
    "plt.tight_layout()\n",
    "plt.show()"
   ]
  },
  {
   "cell_type": "code",
   "execution_count": 33,
   "metadata": {
    "id": "GRI_R7xF0q1L"
   },
   "outputs": [
    {
     "name": "stdout",
     "output_type": "stream",
     "text": [
      "       plan   mean_sms      var_sms\n",
      "0      surf  31.159568  1126.724522\n",
      "1  ultimate  37.551389  1208.756744\n"
     ]
    }
   ],
   "source": [
    "# Calcula la media y la varianza de la cantidad mensual de mensajes\n",
    "sms_stats = df_usage.groupby(\"plan\")[\"sms_count\"].agg([\"mean\", \"var\"]).reset_index()\n",
    "\n",
    "# Renombrar columnas para mayor claridad\n",
    "sms_stats.rename(columns={\"mean\": \"mean_sms\", \"var\": \"var_sms\"}, inplace=True)\n",
    "\n",
    "# Mostrar resultados\n",
    "print(sms_stats)"
   ]
  },
  {
   "cell_type": "code",
   "execution_count": 34,
   "metadata": {
    "id": "dtFwCGAp0q1M"
   },
   "outputs": [
    {
     "data": {
      "text/plain": [
       "<Figure size 800x600 with 0 Axes>"
      ]
     },
     "metadata": {},
     "output_type": "display_data"
    },
    {
     "data": {
      "image/png": "[encoded data removed]",
      "text/plain": [
       "<Figure size 640x480 with 1 Axes>"
      ]
     },
     "metadata": {},
     "output_type": "display_data"
    }
   ],
   "source": [
    "# Traza un diagrama de caja para visualizar la distribución de la cantidad mensual de mensajes\n",
    "plt.figure(figsize=(8, 6))\n",
    "df_usage.boxplot(column=\"sms_count\", by=\"plan\")\n",
    "plt.title(\"Distribución mensual de SMS por plan\")\n",
    "plt.suptitle(\"\")  # Eliminar título automático generado por pandas\n",
    "plt.xlabel(\"Plan\")\n",
    "plt.ylabel(\"SMS enviados al mes\")\n",
    "plt.grid(axis='y')\n",
    "plt.tight_layout()\n",
    "plt.show()"
   ]
  },
  {
   "cell_type": "markdown",
   "metadata": {
    "id": "390SSL480q1M"
   },
   "source": [
    "#### Conclusiones sobre el comportamiento de los usuarios con respecto a los mensajes\n",
    "\n",
    "El análisis de los datos muestra que el uso de mensajes de texto es muy bajo en ambos planes:\n",
    "\n",
    "- La media de SMS enviados por mes es baja tanto en Surf (31) como en Ultimate (37), y la mediana es aún menor, lo cual confirma que la mayoría de los usuarios no envían muchos mensajes.\n",
    "\n",
    "- Aunque los usuarios de Ultimate tienden a enviar ligeramente más SMS en promedio, esta diferencia es marginal.\n",
    "\n",
    "- El diagrama de caja revela una alta concentración de usuarios que envían pocos o ningún mensaje, junto con algunos valores atípicos, especialmente en el plan Ultimate. Esto sugiere que solo una minoría significativa de usuarios aprovecha los SMS ilimitados.\n",
    "\n",
    "- La varianza en ambos planes es elevada en comparación con la media, lo que indica que el comportamiento de los usuarios es bastante diverso: algunos no usan SMS en absoluto, mientras que otros lo hacen en grandes cantidades.\n",
    "\n",
    "En resumen, los mensajes de texto tienen poca relevancia en el comportamiento general de los usuarios, independientemente del plan contratado.\n",
    "\n"
   ]
  },
  {
   "cell_type": "markdown",
   "metadata": {
    "id": "42YSypXz0q1M"
   },
   "source": [
    "### Internet"
   ]
  },
  {
   "cell_type": "code",
   "execution_count": 35,
   "metadata": {
    "id": "lSuKPtjh0q1M"
   },
   "outputs": [
    {
     "data": {
      "image/png": "[encoded data removed]",
      "text/plain": [
       "<Figure size 1000x600 with 1 Axes>"
      ]
     },
     "metadata": {},
     "output_type": "display_data"
    }
   ],
   "source": [
    "# Compara la cantidad de tráfico de Internet consumido por usuarios por plan\n",
    "plt.figure(figsize=(10, 6))\n",
    "\n",
    "# Usuarios con plan Surf\n",
    "surf_data = df_usage[df_usage[\"plan\"] == \"surf\"][\"gb_used\"]\n",
    "plt.hist(surf_data, bins=30, alpha=0.6, label=\"Surf\")\n",
    "\n",
    "# Usuarios con plan Ultimate\n",
    "ultimate_data = df_usage[df_usage[\"plan\"] == \"ultimate\"][\"gb_used\"]\n",
    "plt.hist(ultimate_data, bins=30, alpha=0.6, label=\"Ultimate\")\n",
    "\n",
    "# Personalización del gráfico\n",
    "plt.title(\"Distribución del tráfico mensual de Internet por plan (en GB)\")\n",
    "plt.xlabel(\"GB usados al mes\")\n",
    "plt.ylabel(\"Cantidad de usuarios\")\n",
    "plt.legend()\n",
    "plt.grid(axis='y')\n",
    "plt.tight_layout()\n",
    "plt.show()"
   ]
  },
  {
   "cell_type": "code",
   "execution_count": 36,
   "metadata": {
    "id": "wnh8jYXi0q1N"
   },
   "outputs": [
    {
     "name": "stdout",
     "output_type": "stream",
     "text": [
      "       plan    mean_gb    var_gb\n",
      "0      surf  16.670693  61.58360\n",
      "1  ultimate  17.306944  58.83055\n"
     ]
    }
   ],
   "source": [
    "# Calcula la media y la varianza de la cantidad mensual consumida de tráfico de Internet\n",
    "internet_stats = df_usage.groupby(\"plan\")[\"gb_used\"].agg([\"mean\", \"var\"]).reset_index()\n",
    "\n",
    "# Renombrar columnas para mayor claridad\n",
    "internet_stats.rename(columns={\"mean\": \"mean_gb\", \"var\": \"var_gb\"}, inplace=True)\n",
    "\n",
    "# Mostrar resultados\n",
    "print(internet_stats)"
   ]
  },
  {
   "cell_type": "code",
   "execution_count": 37,
   "metadata": {
    "id": "5VlyJ9ry0q1N"
   },
   "outputs": [
    {
     "data": {
      "text/plain": [
       "<Figure size 800x600 with 0 Axes>"
      ]
     },
     "metadata": {},
     "output_type": "display_data"
    },
    {
     "data": {
      "image/png": "[encoded data removed]",
      "text/plain": [
       "<Figure size 640x480 with 1 Axes>"
      ]
     },
     "metadata": {},
     "output_type": "display_data"
    }
   ],
   "source": [
    "# Traza un diagrama de caja para visualizar la distribución de la cantidad mensual de tráfico de Internet\n",
    "plt.figure(figsize=(8, 6))\n",
    "df_usage.boxplot(column=\"gb_used\", by=\"plan\")\n",
    "plt.title(\"Distribución mensual del uso de Internet por plan (GB)\")\n",
    "plt.suptitle(\"\")  # Eliminar título automático generado por pandas\n",
    "plt.xlabel(\"Plan\")\n",
    "plt.ylabel(\"GB usados al mes\")\n",
    "plt.grid(axis='y')\n",
    "plt.tight_layout()\n",
    "plt.show()"
   ]
  },
  {
   "cell_type": "markdown",
   "metadata": {
    "id": "UN9zwuMP0q1N"
   },
   "source": [
    "#### Conclusiones sobre el comportamiento de los usuarios con respecto al tráfico de Internet\n",
    "\n",
    "El análisis del consumo mensual de datos (en GB) revela que los usuarios de ambos planes hacen un uso considerable del internet móvil, con comportamientos muy similares entre sí:\n",
    "\n",
    "- La media de consumo es levemente mayor en el plan Ultimate (17.3 GB) que en Surf (16.7 GB), aunque la diferencia no es significativa.\n",
    "\n",
    "- En ambos casos, la varianza es similar, lo que indica que la dispersión del consumo mensual no varía mucho entre planes.\n",
    "\n",
    "- El diagrama de caja muestra que hay muchos usuarios que consumen cerca del límite de su plan, especialmente en Surf, donde el tope de 15 GB se supera con frecuencia, generando ingresos adicionales por datos extra.\n",
    "\n",
    "- También se observan valores atípicos en ambos planes, con algunos usuarios que utilizan volúmenes de datos significativamente mayores, sobre todo en Ultimate.\n",
    "\n",
    "En resumen, el comportamiento de los usuarios respecto al tráfico de Internet no varía drásticamente según el plan, aunque los usuarios de Ultimate tienden a tener un consumo más alto y más flexible, mientras que los de Surf muestran patrones más concentrados y frecuentes cobros por excedentes."
   ]
  },
  {
   "cell_type": "markdown",
   "metadata": {
    "id": "tCijq3260q1N"
   },
   "source": [
    "## Ingreso"
   ]
  },
  {
   "cell_type": "markdown",
   "metadata": {
    "id": "9nq5IAcy0q1O"
   },
   "source": [
    "[Del mismo modo que has estudiado el comportamiento de los usuarios, describe estadísticamente los ingresos de los planes.]"
   ]
  },
  {
   "cell_type": "code",
   "execution_count": 38,
   "metadata": {
    "id": "tz-dq_V00q1O"
   },
   "outputs": [
    {
     "data": {
      "image/png": "[encoded data removed]",
      "text/plain": [
       "<Figure size 1000x600 with 1 Axes>"
      ]
     },
     "metadata": {},
     "output_type": "display_data"
    }
   ],
   "source": [
    "# Compara la cantidad de ingresos por usuarios por plan\n",
    "plt.figure(figsize=(10, 6))\n",
    "\n",
    "# Ingresos de usuarios del plan Surf\n",
    "surf_revenue = df_usage[df_usage[\"plan\"] == \"surf\"][\"revenue\"]\n",
    "plt.hist(surf_revenue, bins=30, alpha=0.6, label=\"Surf\")\n",
    "\n",
    "# Ingresos de usuarios del plan Ultimate\n",
    "ultimate_revenue = df_usage[df_usage[\"plan\"] == \"ultimate\"][\"revenue\"]\n",
    "plt.hist(ultimate_revenue, bins=30, alpha=0.6, label=\"Ultimate\")\n",
    "\n",
    "# Personalización del gráfico\n",
    "plt.title(\"Distribución de ingresos mensuales por plan\")\n",
    "plt.xlabel(\"Ingresos mensuales ($)\")\n",
    "plt.ylabel(\"Cantidad de usuarios\")\n",
    "plt.legend()\n",
    "plt.grid(axis='y')\n",
    "plt.tight_layout()\n",
    "plt.show()"
   ]
  },
  {
   "cell_type": "code",
   "execution_count": 39,
   "metadata": {
    "id": "0Y1v8ZUz0q1P"
   },
   "outputs": [
    {
     "name": "stdout",
     "output_type": "stream",
     "text": [
      "       plan  mean_revenue  var_revenue  std_revenue\n",
      "0      surf     60.706408  3067.835152    55.388042\n",
      "1  ultimate     72.313889   129.848486    11.395108\n"
     ]
    }
   ],
   "source": [
    "# Calcular media, varianza y desviación estándar de ingresos por plan\n",
    "revenue_stats = df_usage.groupby(\"plan\")[\"revenue\"].agg([\"mean\", \"var\", \"std\"]).reset_index()\n",
    "\n",
    "# Renombrar columnas para mayor claridad\n",
    "revenue_stats.rename(columns={\n",
    "    \"mean\": \"mean_revenue\",\n",
    "    \"var\": \"var_revenue\",\n",
    "    \"std\": \"std_revenue\"\n",
    "}, inplace=True)\n",
    "\n",
    "# Mostrar resultados\n",
    "print(revenue_stats)"
   ]
  },
  {
   "cell_type": "code",
   "execution_count": 40,
   "metadata": {
    "id": "bYmwxyVh0q1P"
   },
   "outputs": [
    {
     "data": {
      "text/plain": [
       "<Figure size 800x600 with 0 Axes>"
      ]
     },
     "metadata": {},
     "output_type": "display_data"
    },
    {
     "data": {
      "image/png": "[encoded data removed]",
      "text/plain": [
       "<Figure size 640x480 with 1 Axes>"
      ]
     },
     "metadata": {},
     "output_type": "display_data"
    }
   ],
   "source": [
    "# Diagrama de caja para visualizar la distribución de ingresos por plan\n",
    "plt.figure(figsize=(8, 6))\n",
    "df_usage.boxplot(column=\"revenue\", by=\"plan\")\n",
    "plt.title(\"Distribución de ingresos mensuales por plan\")\n",
    "plt.suptitle(\"\")  # Eliminar título automático generado por pandas\n",
    "plt.xlabel(\"Plan\")\n",
    "plt.ylabel(\"Ingresos ($)\")\n",
    "plt.grid(axis='y')\n",
    "plt.tight_layout()\n",
    "plt.show()"
   ]
  },
  {
   "cell_type": "markdown",
   "metadata": {
    "id": "KAFidcXZ0q1P"
   },
   "source": [
    "### Conclusiones sobre cómo difiere el ingreso entre los planes\n",
    "\n",
    "El análisis estadístico de los ingresos mensuales muestra diferencias claras entre los planes Surf y Ultimate:\n",
    "\n",
    "- El ingreso promedio generado por usuarios del plan Ultimate es más alto (72.31 USD), como era de esperarse, ya que su cuota mensual base es de 70 USD.\n",
    "\n",
    "- En cambio, el plan Surf tiene un ingreso promedio menor (60.71 USD), pero con una varianza mucho más alta, lo que indica que los ingresos en este plan son más variables: algunos usuarios apenas pagan los 20 USD mensuales, mientras que otros generan ingresos adicionales significativos por exceder los límites del plan.\n",
    "\n",
    "- El diagrama de caja confirma esto, mostrando una distribución más estable en Ultimate y una más dispersa con varios valores atípicos en Surf.\n",
    "\n",
    "- El histograma también revela que en el plan Surf existe una gran diversidad de ingresos, mientras que Ultimate presenta una concentración clara cerca del valor fijo.\n",
    "\n",
    "En resumen, el plan Ultimate genera ingresos más constantes y predecibles, mientras que Surf puede generar ingresos mayores en algunos casos, pero con mucha más variabilidad entre los usuarios.\n",
    "\n"
   ]
  },
  {
   "cell_type": "markdown",
   "metadata": {
    "id": "ajJ7VKeI0q1Q"
   },
   "source": [
    "## Prueba las hipótesis estadísticas"
   ]
  },
  {
   "cell_type": "markdown",
   "metadata": {
    "id": "AdXAZ-yL0q1Q"
   },
   "source": [
    "[Prueba la hipótesis de que son diferentes los ingresos promedio procedentes de los usuarios de los planes de llamada Ultimate y Surf.]"
   ]
  },
  {
   "cell_type": "markdown",
   "metadata": {
    "id": "IQwa_hsh0q1Q"
   },
   "source": [
    "[Elabora las hipótesis nula y alternativa, escoge la prueba estadística, determina el valor alfa.]"
   ]
  },
  {
   "cell_type": "markdown",
   "metadata": {},
   "source": [
    "### Prueba de hipótesis: Comparación de ingresos entre planes\n",
    "\n",
    "El objetivo es determinar si los ingresos promedio de los usuarios del plan **Surf** son diferentes a los de los usuarios del plan **Ultimate**.\n",
    "\n",
    "- **Hipótesis nula (H₀):** El ingreso promedio de los usuarios de ambos planes es igual.\n",
    "- **Hipótesis alternativa (H₁):** El ingreso promedio de los usuarios de los dos planes es diferente.\n",
    "\n",
    "**Prueba estadística utilizada:** Prueba t de Student para muestras independientes (con varianzas desiguales, \"equal_var=False\").  \n",
    "**Nivel de significancia:** α = 0.05"
   ]
  },
  {
   "cell_type": "code",
   "execution_count": 41,
   "metadata": {
    "id": "nFoPNlPq0q1R"
   },
   "outputs": [
    {
     "name": "stdout",
     "output_type": "stream",
     "text": [
      "Estadístico t: -7.952094891333888\n",
      "Valor p: 3.1703905481135734e-15\n"
     ]
    }
   ],
   "source": [
    "# Prueba las hipótesis\n",
    "\n",
    "# Separar ingresos por plan\n",
    "surf_revenue = df_usage[df_usage[\"plan\"] == \"surf\"][\"revenue\"]\n",
    "ultimate_revenue = df_usage[df_usage[\"plan\"] == \"ultimate\"][\"revenue\"]\n",
    "\n",
    "# Prueba t de Student (versión de Welch, asume varianzas desiguales)\n",
    "t_stat, p_value = ttest_ind(surf_revenue, ultimate_revenue, equal_var=False)\n",
    "\n",
    "# Mostrar resultados\n",
    "print(\"Estadístico t:\", t_stat)\n",
    "print(\"Valor p:\", p_value)"
   ]
  },
  {
   "cell_type": "markdown",
   "metadata": {},
   "source": [
    "#### Conclusión de la prueba de hipótesis\n",
    "\n",
    "- **Estadístico t**: el valor calculado fue significativo.\n",
    "- **Valor p**: muy inferior a 0.05 (aproximadamente 3.17 × 10⁻¹⁵)\n",
    "\n",
    "Dado que el **valor p es mucho menor que el nivel de significancia α = 0.05**, **rechazamos la hipótesis nula**.\n",
    "\n",
    "Esto indica que **sí existe una diferencia significativa** entre los ingresos promedio generados por los usuarios de los planes **Surf** y **Ultimate**.\n",
    "\n"
   ]
  },
  {
   "cell_type": "markdown",
   "metadata": {
    "id": "tCcAruM60q1R"
   },
   "source": [
    "[Prueba la hipótesis de que el ingreso promedio de los usuarios del área NY-NJ es diferente al de los usuarios de otras regiones.]"
   ]
  },
  {
   "cell_type": "markdown",
   "metadata": {
    "id": "LsBgitqj0q1R"
   },
   "source": [
    "[Elabora las hipótesis nula y alternativa, escoge la prueba estadística, determina el valor alfa.]"
   ]
  },
  {
   "cell_type": "markdown",
   "metadata": {},
   "source": [
    "### Prueba de hipótesis: Comparación de ingresos entre NY/NJ y otras regiones\n",
    "\n",
    "Queremos saber si los ingresos promedio de los usuarios que viven en **Nueva York o Nueva Jersey** son diferentes a los de otras regiones.\n",
    "\n",
    "- **Hipótesis nula (H₀):** El ingreso promedio de los usuarios de NY/NJ es igual al de los usuarios del resto del país.\n",
    "- **Hipótesis alternativa (H₁):** El ingreso promedio de los usuarios de NY/NJ es diferente al de los usuarios del resto del país.\n",
    "\n",
    "**Prueba estadística utilizada:** Prueba t de Student para muestras independientes (con varianzas desiguales).  \n",
    "**Nivel de significancia:** α = 0.05"
   ]
  },
  {
   "cell_type": "code",
   "execution_count": 43,
   "metadata": {
    "id": "Cqcj7wrZ0q1S"
   },
   "outputs": [
    {
     "name": "stdout",
     "output_type": "stream",
     "text": [
      "Estadístico t: -2.1309454999502133\n",
      "Valor p: 0.0335256158853001\n"
     ]
    }
   ],
   "source": [
    "# Prueba las hipótesis\n",
    "\n",
    "# Clasificar a los usuarios por región: NY/NJ vs Otras\n",
    "df_users[\"region\"] = df_users[\"city\"].apply(\n",
    "    lambda x: \"NY-NJ\" if \"New York\" in x or \"New Jersey\" in x else \"Other\"\n",
    ")\n",
    "\n",
    "# Unir esta información con el dataframe de ingresos mensuales\n",
    "df_income_region = df_usage.merge(df_users[[\"user_id\", \"region\"]], on=\"user_id\", how=\"left\")\n",
    "\n",
    "# Separar ingresos por región\n",
    "ny_nj_revenue = df_income_region[df_income_region[\"region\"] == \"NY-NJ\"][\"revenue\"]\n",
    "other_revenue = df_income_region[df_income_region[\"region\"] == \"Other\"][\"revenue\"]\n",
    "\n",
    "# Aplicar prueba t de Student (Welch) para muestras independientes\n",
    "t_stat_region, p_value_region = ttest_ind(ny_nj_revenue, other_revenue, equal_var=False)\n",
    "\n",
    "# Mostrar resultados\n",
    "print(\"Estadístico t:\", t_stat_region)\n",
    "print(\"Valor p:\", p_value_region)"
   ]
  },
  {
   "cell_type": "markdown",
   "metadata": {},
   "source": [
    "#### Conclusión de la prueba de hipótesis: Ingresos en NY/NJ vs. otras regiones\n",
    "\n",
    "Se aplicó una prueba t de Student para muestras independientes con varianzas desiguales para comparar los ingresos promedio de los usuarios que viven en Nueva York y Nueva Jersey con los del resto del país.\n",
    "\n",
    "- **Estadístico t:** -2.13  \n",
    "- **Valor p:** 0.0335  \n",
    "- **Nivel de significancia:** α = 0.05\n",
    "\n",
    "Como el valor p es menor que el nivel de significancia (p < 0.05), **rechazamos la hipótesis nula**.\n",
    "\n",
    "**Conclusión:** Existe evidencia estadísticamente significativa para afirmar que los ingresos promedio de los usuarios de NY/NJ son diferentes a los del resto de las regiones.\n"
   ]
  },
  {
   "cell_type": "markdown",
   "metadata": {
    "id": "bbTR8UQO0q1T"
   },
   "source": [
    "## Conclusión general\n",
    "\n",
    "A lo largo del análisis realizado para Megaline, se abordó el comportamiento de los usuarios de los planes **Surf** y **Ultimate**, y se determinó cuál genera mayores ingresos promedio. Estas son las conclusiones más relevantes:\n",
    "\n",
    "\n",
    "\n",
    "### Preparación de datos\n",
    "- Se limpiaron y transformaron cinco tablas diferentes (usuarios, llamadas, mensajes, internet y planes).\n",
    "- Se redondearon los **minutos de cada llamada hacia arriba**, según las reglas de negocio.\n",
    "- Se calculó el **consumo mensual por usuario**, incluyendo llamadas, mensajes, tráfico de internet (en GB) y sus ingresos.\n",
    "\n",
    "\n",
    "\n",
    "### Comportamiento del usuario por plan\n",
    "- **Llamadas:** Los usuarios de ambos planes hablan una cantidad similar de minutos en promedio, pero los usuarios de **Ultimate** muestran mayor dispersión y valores atípicos.\n",
    "- **Mensajes:** El uso de SMS es bajo en general. La mayoría de los usuarios de ambos planes envían pocos mensajes.\n",
    "- **Internet:** El tráfico mensual de datos es similar entre planes. Muchos usuarios de **Surf** superan su límite de 15 GB y generan ingresos adicionales.\n",
    "- **Ingresos:** Aunque **Ultimate** tiene un ingreso promedio mayor y más estable, **Surf** puede generar ingresos altos en ciertos usuarios que exceden los límites de su plan, aunque con alta variabilidad.\n",
    "\n",
    "\n",
    "\n",
    "### Pruebas de hipótesis\n",
    "- Se aplicaron pruebas t de Student (versión de Welch) para comparar medias de ingresos:\n",
    "  - **Surf vs. Ultimate:** Se encontró una diferencia significativa en los ingresos promedio (p < 0.05).\n",
    "  - **NY/NJ vs. otras regiones:** También se encontró una diferencia significativa entre regiones (p < 0.05).\n",
    "\n",
    "\n",
    "\n",
    "### Decisión y recomendaciones\n",
    "- El plan **Ultimate** genera ingresos más consistentes y estables, ideal para usuarios con consumo elevado.\n",
    "- El plan **Surf** puede resultar rentable en ciertos casos, pero su ingreso es muy variable.\n",
    "- Megaline puede considerar enfocar su publicidad diferenciada:\n",
    "  - Promocionar **Ultimate** a usuarios de alto consumo (con estabilidad en ingresos).\n",
    "  - Ajustar los límites del plan **Surf** o incentivar actualizaciones de plan.\n",
    "\n",
    "\n",
    "\n",
    "Este análisis proporciona una base sólida para la toma de decisiones estratégicas sobre precios y campañas de marketing.\n"
   ]
  },
  {
   "cell_type": "code",
   "execution_count": null,
   "metadata": {},
   "outputs": [],
   "source": []
  }
 ],
 "metadata": {
  "ExecuteTimeLog": [
   {
    "duration": 828,
    "start_time": "2021-11-16T09:21:11.304Z"
   },
   {
    "duration": 893,
    "start_time": "2021-11-16T09:21:17.728Z"
   },
   {
    "duration": 1150,
    "start_time": "2021-11-16T09:21:29.568Z"
   },
   {
    "duration": 3,
    "start_time": "2021-11-16T09:24:14.495Z"
   },
   {
    "duration": 120,
    "start_time": "2021-11-16T09:24:46.630Z"
   },
   {
    "duration": 3,
    "start_time": "2021-11-16T09:28:27.882Z"
   },
   {
    "duration": 4,
    "start_time": "2021-11-16T09:29:54.281Z"
   },
   {
    "duration": 3,
    "start_time": "2021-11-16T09:30:45.936Z"
   },
   {
    "duration": 4,
    "start_time": "2021-11-16T09:31:06.300Z"
   },
   {
    "duration": 113,
    "start_time": "2021-11-16T09:31:37.208Z"
   },
   {
    "duration": 143,
    "start_time": "2021-11-16T09:31:48.656Z"
   },
   {
    "duration": 98,
    "start_time": "2021-11-16T09:31:55.678Z"
   },
   {
    "duration": 3,
    "start_time": "2021-11-16T09:32:08.535Z"
   },
   {
    "duration": 111,
    "start_time": "2021-11-16T09:32:10.120Z"
   },
   {
    "duration": 3,
    "start_time": "2021-11-16T09:32:15.732Z"
   },
   {
    "duration": 4,
    "start_time": "2021-11-16T09:32:29.423Z"
   },
   {
    "duration": 3,
    "start_time": "2021-11-16T10:03:03.074Z"
   },
   {
    "duration": 3,
    "start_time": "2021-11-16T10:10:01.288Z"
   },
   {
    "duration": 3,
    "start_time": "2021-11-16T10:10:46.923Z"
   },
   {
    "duration": 121,
    "start_time": "2021-11-16T10:37:46.494Z"
   },
   {
    "duration": 125,
    "start_time": "2021-11-16T10:38:20.632Z"
   },
   {
    "duration": 112,
    "start_time": "2021-11-16T10:46:53.001Z"
   },
   {
    "duration": 110,
    "start_time": "2021-11-16T10:48:25.775Z"
   },
   {
    "duration": 3,
    "start_time": "2021-11-16T10:50:18.720Z"
   },
   {
    "duration": 4,
    "start_time": "2021-11-16T10:50:37.649Z"
   },
   {
    "duration": 2,
    "start_time": "2021-11-16T10:50:51.884Z"
   },
   {
    "duration": 3,
    "start_time": "2021-11-16T10:51:56.237Z"
   },
   {
    "duration": 101,
    "start_time": "2021-11-16T10:53:13.791Z"
   },
   {
    "duration": 3,
    "start_time": "2021-11-16T10:55:59.186Z"
   },
   {
    "duration": 3,
    "start_time": "2021-11-16T10:56:10.751Z"
   },
   {
    "duration": 3,
    "start_time": "2021-11-16T10:56:49.038Z"
   },
   {
    "duration": 3,
    "start_time": "2021-11-16T10:56:49.174Z"
   },
   {
    "duration": 4,
    "start_time": "2021-11-16T10:56:49.414Z"
   },
   {
    "duration": 3,
    "start_time": "2021-11-16T10:56:49.680Z"
   },
   {
    "duration": 3,
    "start_time": "2021-11-16T10:56:50.370Z"
   },
   {
    "duration": 114,
    "start_time": "2021-11-16T10:59:34.518Z"
   },
   {
    "duration": 3,
    "start_time": "2021-11-16T11:01:41.201Z"
   },
   {
    "duration": 116,
    "start_time": "2021-11-16T11:01:48.754Z"
   },
   {
    "duration": 3,
    "start_time": "2021-11-16T11:02:16.685Z"
   },
   {
    "duration": 3,
    "start_time": "2021-11-16T11:02:19.479Z"
   },
   {
    "duration": 3,
    "start_time": "2021-11-16T11:02:47.067Z"
   },
   {
    "duration": 3,
    "start_time": "2021-11-16T11:02:49.353Z"
   },
   {
    "duration": 3,
    "start_time": "2021-11-16T11:03:07.835Z"
   },
   {
    "duration": 3,
    "start_time": "2021-11-16T11:03:07.953Z"
   },
   {
    "duration": 112,
    "start_time": "2021-11-16T11:07:52.072Z"
   },
   {
    "duration": 187,
    "start_time": "2021-11-16T11:09:23.468Z"
   },
   {
    "duration": 4,
    "start_time": "2021-11-16T11:10:01.455Z"
   },
   {
    "duration": 3,
    "start_time": "2021-11-16T11:10:05.069Z"
   },
   {
    "duration": 4,
    "start_time": "2021-11-16T11:10:13.376Z"
   },
   {
    "duration": 3,
    "start_time": "2021-11-16T11:10:14.434Z"
   },
   {
    "duration": 3,
    "start_time": "2021-11-16T11:10:22.853Z"
   },
   {
    "duration": 4,
    "start_time": "2021-11-16T11:27:29.279Z"
   },
   {
    "duration": 4,
    "start_time": "2021-11-16T11:29:08.919Z"
   },
   {
    "duration": 118,
    "start_time": "2021-11-16T11:29:46.703Z"
   },
   {
    "duration": 437,
    "start_time": "2021-11-16T11:36:02.181Z"
   },
   {
    "duration": 157,
    "start_time": "2021-11-16T11:36:14.388Z"
   },
   {
    "duration": 207,
    "start_time": "2021-11-16T11:47:15.898Z"
   },
   {
    "duration": 3,
    "start_time": "2021-11-16T11:53:52.092Z"
   },
   {
    "duration": 3,
    "start_time": "2021-11-16T11:53:52.236Z"
   },
   {
    "duration": 3,
    "start_time": "2021-11-16T11:59:12.005Z"
   },
   {
    "duration": 112,
    "start_time": "2021-11-16T12:00:33.446Z"
   },
   {
    "duration": 3,
    "start_time": "2021-11-16T12:02:14.453Z"
   },
   {
    "duration": 3,
    "start_time": "2021-11-16T12:02:39.512Z"
   },
   {
    "duration": 106,
    "start_time": "2021-11-16T12:03:03.460Z"
   },
   {
    "duration": 3,
    "start_time": "2021-11-17T20:37:21.139Z"
   },
   {
    "duration": 3,
    "start_time": "2021-11-17T20:37:22.229Z"
   },
   {
    "duration": 3,
    "start_time": "2021-11-17T20:38:38.806Z"
   },
   {
    "duration": 3,
    "start_time": "2021-11-17T20:38:41.958Z"
   },
   {
    "duration": 3,
    "start_time": "2021-11-17T20:43:46.551Z"
   },
   {
    "duration": 4,
    "start_time": "2021-11-17T20:58:21.835Z"
   },
   {
    "duration": 3,
    "start_time": "2021-11-17T20:59:21.872Z"
   },
   {
    "duration": 4,
    "start_time": "2021-11-17T20:59:45.352Z"
   },
   {
    "duration": 4,
    "start_time": "2021-11-17T20:59:49.646Z"
   },
   {
    "duration": 159,
    "start_time": "2021-11-17T21:02:26.949Z"
   },
   {
    "duration": 3,
    "start_time": "2021-11-17T21:03:53.461Z"
   },
   {
    "duration": 3,
    "start_time": "2021-11-17T21:03:53.694Z"
   },
   {
    "duration": 3,
    "start_time": "2021-11-17T21:05:28.145Z"
   },
   {
    "duration": 116,
    "start_time": "2021-11-17T21:05:57.787Z"
   },
   {
    "duration": 3,
    "start_time": "2021-11-17T21:06:37.993Z"
   },
   {
    "duration": 3,
    "start_time": "2021-11-17T21:06:38.261Z"
   },
   {
    "duration": 3,
    "start_time": "2021-11-17T21:11:54.358Z"
   },
   {
    "duration": 3,
    "start_time": "2021-11-17T21:12:43.846Z"
   },
   {
    "duration": 4,
    "start_time": "2021-11-17T21:13:08.773Z"
   },
   {
    "duration": 3,
    "start_time": "2021-11-17T21:14:44.441Z"
   },
   {
    "duration": 3,
    "start_time": "2021-11-17T21:15:42.059Z"
   },
   {
    "duration": 4,
    "start_time": "2021-11-17T21:15:51.995Z"
   },
   {
    "duration": 3,
    "start_time": "2021-11-17T21:15:53.923Z"
   },
   {
    "duration": 3,
    "start_time": "2021-11-17T21:15:55.282Z"
   },
   {
    "duration": 3,
    "start_time": "2021-11-17T21:16:28.492Z"
   },
   {
    "duration": 3,
    "start_time": "2021-11-17T21:16:32.603Z"
   },
   {
    "duration": 3,
    "start_time": "2021-11-17T21:17:06.941Z"
   },
   {
    "duration": 98,
    "start_time": "2021-11-17T21:18:05.733Z"
   },
   {
    "duration": 4,
    "start_time": "2021-11-17T21:21:35.255Z"
   },
   {
    "duration": 3,
    "start_time": "2021-11-17T21:21:37.804Z"
   },
   {
    "duration": 4,
    "start_time": "2021-11-17T21:23:06.071Z"
   },
   {
    "duration": 3,
    "start_time": "2021-11-17T21:23:24.799Z"
   },
   {
    "duration": 3,
    "start_time": "2021-11-17T21:23:32.591Z"
   },
   {
    "duration": 98,
    "start_time": "2021-11-17T21:28:31.559Z"
   },
   {
    "duration": 3,
    "start_time": "2021-11-17T21:28:45.448Z"
   },
   {
    "duration": 3,
    "start_time": "2021-11-17T21:29:17.303Z"
   },
   {
    "duration": 3,
    "start_time": "2021-11-17T21:29:29.617Z"
   },
   {
    "duration": 3,
    "start_time": "2021-11-17T21:29:32.681Z"
   },
   {
    "duration": 3,
    "start_time": "2021-11-17T21:36:11.474Z"
   },
   {
    "duration": 3,
    "start_time": "2021-11-17T21:36:14.791Z"
   },
   {
    "duration": 3,
    "start_time": "2021-11-17T21:36:53.943Z"
   },
   {
    "duration": 3,
    "start_time": "2021-11-17T21:36:56.165Z"
   },
   {
    "duration": 4,
    "start_time": "2021-11-17T21:37:16.590Z"
   },
   {
    "duration": 3,
    "start_time": "2021-11-17T21:37:22.702Z"
   },
   {
    "duration": 4,
    "start_time": "2021-11-17T21:38:03.479Z"
   },
   {
    "duration": 3,
    "start_time": "2021-11-17T21:38:08.601Z"
   },
   {
    "duration": 3,
    "start_time": "2021-11-17T21:38:12.928Z"
   },
   {
    "duration": 3,
    "start_time": "2021-11-17T21:38:48.896Z"
   },
   {
    "duration": 2,
    "start_time": "2021-11-17T21:38:49.171Z"
   },
   {
    "duration": 4,
    "start_time": "2021-11-17T21:39:57.889Z"
   },
   {
    "duration": 3,
    "start_time": "2021-11-17T21:39:58.057Z"
   },
   {
    "duration": 3,
    "start_time": "2021-11-17T21:41:20.108Z"
   },
   {
    "duration": 3,
    "start_time": "2021-11-17T21:41:20.629Z"
   },
   {
    "duration": 3,
    "start_time": "2021-11-17T21:42:49.136Z"
   },
   {
    "duration": 3,
    "start_time": "2021-11-17T21:43:15.137Z"
   },
   {
    "duration": 4,
    "start_time": "2021-11-17T21:43:16.766Z"
   },
   {
    "duration": 4,
    "start_time": "2021-11-17T21:43:31.711Z"
   },
   {
    "duration": 3,
    "start_time": "2021-11-17T21:43:36.312Z"
   },
   {
    "duration": 4,
    "start_time": "2021-11-17T21:45:08.825Z"
   },
   {
    "duration": 4,
    "start_time": "2021-11-17T21:45:10.119Z"
   },
   {
    "duration": 4,
    "start_time": "2021-11-17T21:45:13.748Z"
   },
   {
    "duration": 3,
    "start_time": "2021-11-17T21:45:22.219Z"
   },
   {
    "duration": 3,
    "start_time": "2021-11-17T21:45:33.412Z"
   },
   {
    "duration": 2,
    "start_time": "2021-11-17T21:46:01.885Z"
   },
   {
    "duration": 3,
    "start_time": "2021-11-17T21:46:03.628Z"
   },
   {
    "duration": 107,
    "start_time": "2021-11-17T21:47:32.512Z"
   },
   {
    "duration": 103,
    "start_time": "2021-11-17T21:50:36.243Z"
   },
   {
    "duration": 3,
    "start_time": "2021-11-18T06:28:31.440Z"
   },
   {
    "duration": 3,
    "start_time": "2021-11-18T06:29:00.168Z"
   },
   {
    "duration": 3,
    "start_time": "2021-11-18T06:31:27.008Z"
   },
   {
    "duration": 2,
    "start_time": "2021-11-18T06:35:34.288Z"
   },
   {
    "duration": 2,
    "start_time": "2021-11-18T06:38:04.527Z"
   },
   {
    "duration": 602,
    "start_time": "2025-04-02T02:40:35.378Z"
   },
   {
    "duration": 251,
    "start_time": "2025-04-02T02:40:36.472Z"
   },
   {
    "duration": 11,
    "start_time": "2025-04-02T02:44:20.515Z"
   },
   {
    "duration": 6,
    "start_time": "2025-04-02T02:44:21.219Z"
   },
   {
    "duration": 5,
    "start_time": "2025-04-02T02:49:34.146Z"
   },
   {
    "duration": 6,
    "start_time": "2025-04-02T02:49:40.744Z"
   },
   {
    "duration": 8,
    "start_time": "2025-04-02T03:12:50.472Z"
   },
   {
    "duration": 6,
    "start_time": "2025-04-02T03:12:51.516Z"
   },
   {
    "duration": 630,
    "start_time": "2025-04-02T03:14:34.532Z"
   },
   {
    "duration": 161,
    "start_time": "2025-04-02T03:14:35.165Z"
   },
   {
    "duration": 10,
    "start_time": "2025-04-02T03:14:35.327Z"
   },
   {
    "duration": 5,
    "start_time": "2025-04-02T03:14:35.340Z"
   },
   {
    "duration": 8,
    "start_time": "2025-04-02T03:14:35.347Z"
   },
   {
    "duration": 5,
    "start_time": "2025-04-02T03:14:35.357Z"
   },
   {
    "duration": 15,
    "start_time": "2025-04-02T03:14:35.367Z"
   },
   {
    "duration": 4,
    "start_time": "2025-04-02T03:14:35.408Z"
   },
   {
    "duration": 14,
    "start_time": "2025-04-02T03:14:35.414Z"
   },
   {
    "duration": 4,
    "start_time": "2025-04-02T03:14:35.433Z"
   },
   {
    "duration": 14,
    "start_time": "2025-04-02T03:14:35.439Z"
   },
   {
    "duration": 4,
    "start_time": "2025-04-02T03:14:35.455Z"
   },
   {
    "duration": 3,
    "start_time": "2025-04-02T03:14:35.461Z"
   },
   {
    "duration": 3,
    "start_time": "2025-04-02T03:14:35.466Z"
   },
   {
    "duration": 38,
    "start_time": "2025-04-02T03:14:35.471Z"
   },
   {
    "duration": 2,
    "start_time": "2025-04-02T03:14:35.512Z"
   },
   {
    "duration": 2,
    "start_time": "2025-04-02T03:14:35.516Z"
   },
   {
    "duration": 2,
    "start_time": "2025-04-02T03:14:35.520Z"
   },
   {
    "duration": 2,
    "start_time": "2025-04-02T03:14:35.525Z"
   },
   {
    "duration": 2,
    "start_time": "2025-04-02T03:14:35.530Z"
   },
   {
    "duration": 3,
    "start_time": "2025-04-02T03:14:35.533Z"
   },
   {
    "duration": 3,
    "start_time": "2025-04-02T03:14:35.538Z"
   },
   {
    "duration": 3,
    "start_time": "2025-04-02T03:14:35.542Z"
   },
   {
    "duration": 3,
    "start_time": "2025-04-02T03:14:35.546Z"
   },
   {
    "duration": 3,
    "start_time": "2025-04-02T03:14:35.551Z"
   },
   {
    "duration": 2,
    "start_time": "2025-04-02T03:14:35.557Z"
   },
   {
    "duration": 49,
    "start_time": "2025-04-02T03:14:35.561Z"
   },
   {
    "duration": 2,
    "start_time": "2025-04-02T03:14:35.613Z"
   },
   {
    "duration": 2522,
    "start_time": "2025-04-04T03:46:03.043Z"
   },
   {
    "duration": 213,
    "start_time": "2025-04-04T03:46:05.569Z"
   },
   {
    "duration": 9,
    "start_time": "2025-04-04T03:46:05.784Z"
   },
   {
    "duration": 6,
    "start_time": "2025-04-04T03:46:05.794Z"
   },
   {
    "duration": 227,
    "start_time": "2025-04-04T03:46:05.802Z"
   },
   {
    "duration": 0,
    "start_time": "2025-04-04T03:46:06.031Z"
   },
   {
    "duration": 0,
    "start_time": "2025-04-04T03:46:06.032Z"
   },
   {
    "duration": 0,
    "start_time": "2025-04-04T03:46:06.033Z"
   },
   {
    "duration": 0,
    "start_time": "2025-04-04T03:46:06.034Z"
   },
   {
    "duration": 0,
    "start_time": "2025-04-04T03:46:06.035Z"
   },
   {
    "duration": 0,
    "start_time": "2025-04-04T03:46:06.037Z"
   },
   {
    "duration": 0,
    "start_time": "2025-04-04T03:46:06.038Z"
   },
   {
    "duration": 0,
    "start_time": "2025-04-04T03:46:06.039Z"
   },
   {
    "duration": 0,
    "start_time": "2025-04-04T03:46:06.040Z"
   },
   {
    "duration": 0,
    "start_time": "2025-04-04T03:46:06.041Z"
   },
   {
    "duration": 0,
    "start_time": "2025-04-04T03:46:06.042Z"
   },
   {
    "duration": 0,
    "start_time": "2025-04-04T03:46:06.043Z"
   },
   {
    "duration": 0,
    "start_time": "2025-04-04T03:46:06.044Z"
   },
   {
    "duration": 0,
    "start_time": "2025-04-04T03:46:06.070Z"
   },
   {
    "duration": 0,
    "start_time": "2025-04-04T03:46:06.071Z"
   },
   {
    "duration": 0,
    "start_time": "2025-04-04T03:46:06.072Z"
   },
   {
    "duration": 0,
    "start_time": "2025-04-04T03:46:06.074Z"
   },
   {
    "duration": 0,
    "start_time": "2025-04-04T03:46:06.075Z"
   },
   {
    "duration": 0,
    "start_time": "2025-04-04T03:46:06.076Z"
   },
   {
    "duration": 0,
    "start_time": "2025-04-04T03:46:06.077Z"
   },
   {
    "duration": 0,
    "start_time": "2025-04-04T03:46:06.079Z"
   },
   {
    "duration": 0,
    "start_time": "2025-04-04T03:46:06.080Z"
   },
   {
    "duration": 0,
    "start_time": "2025-04-04T03:46:06.082Z"
   },
   {
    "duration": 0,
    "start_time": "2025-04-04T03:46:06.083Z"
   },
   {
    "duration": 750,
    "start_time": "2025-04-04T03:46:14.786Z"
   },
   {
    "duration": 161,
    "start_time": "2025-04-04T03:46:15.539Z"
   },
   {
    "duration": 10,
    "start_time": "2025-04-04T03:46:15.701Z"
   },
   {
    "duration": 7,
    "start_time": "2025-04-04T03:46:15.713Z"
   },
   {
    "duration": 221,
    "start_time": "2025-04-04T03:46:15.722Z"
   },
   {
    "duration": 0,
    "start_time": "2025-04-04T03:46:15.945Z"
   },
   {
    "duration": 0,
    "start_time": "2025-04-04T03:46:15.947Z"
   },
   {
    "duration": 0,
    "start_time": "2025-04-04T03:46:15.948Z"
   },
   {
    "duration": 0,
    "start_time": "2025-04-04T03:46:15.950Z"
   },
   {
    "duration": 0,
    "start_time": "2025-04-04T03:46:15.951Z"
   },
   {
    "duration": 0,
    "start_time": "2025-04-04T03:46:15.952Z"
   },
   {
    "duration": 0,
    "start_time": "2025-04-04T03:46:15.953Z"
   },
   {
    "duration": 0,
    "start_time": "2025-04-04T03:46:15.970Z"
   },
   {
    "duration": 0,
    "start_time": "2025-04-04T03:46:15.971Z"
   },
   {
    "duration": 0,
    "start_time": "2025-04-04T03:46:15.972Z"
   },
   {
    "duration": 0,
    "start_time": "2025-04-04T03:46:15.974Z"
   },
   {
    "duration": 0,
    "start_time": "2025-04-04T03:46:15.975Z"
   },
   {
    "duration": 0,
    "start_time": "2025-04-04T03:46:15.976Z"
   },
   {
    "duration": 0,
    "start_time": "2025-04-04T03:46:15.977Z"
   },
   {
    "duration": 0,
    "start_time": "2025-04-04T03:46:15.978Z"
   },
   {
    "duration": 0,
    "start_time": "2025-04-04T03:46:15.979Z"
   },
   {
    "duration": 0,
    "start_time": "2025-04-04T03:46:15.980Z"
   },
   {
    "duration": 0,
    "start_time": "2025-04-04T03:46:15.981Z"
   },
   {
    "duration": 0,
    "start_time": "2025-04-04T03:46:15.982Z"
   },
   {
    "duration": 0,
    "start_time": "2025-04-04T03:46:15.985Z"
   },
   {
    "duration": 0,
    "start_time": "2025-04-04T03:46:15.986Z"
   },
   {
    "duration": 0,
    "start_time": "2025-04-04T03:46:15.987Z"
   },
   {
    "duration": 0,
    "start_time": "2025-04-04T03:46:15.988Z"
   },
   {
    "duration": 0,
    "start_time": "2025-04-04T03:46:15.989Z"
   },
   {
    "duration": 801,
    "start_time": "2025-04-04T03:46:50.583Z"
   },
   {
    "duration": 158,
    "start_time": "2025-04-04T03:46:51.387Z"
   },
   {
    "duration": 9,
    "start_time": "2025-04-04T03:46:51.546Z"
   },
   {
    "duration": 17,
    "start_time": "2025-04-04T03:46:51.558Z"
   },
   {
    "duration": 231,
    "start_time": "2025-04-04T03:46:51.578Z"
   },
   {
    "duration": 0,
    "start_time": "2025-04-04T03:46:51.812Z"
   },
   {
    "duration": 0,
    "start_time": "2025-04-04T03:46:51.814Z"
   },
   {
    "duration": 0,
    "start_time": "2025-04-04T03:46:51.815Z"
   },
   {
    "duration": 0,
    "start_time": "2025-04-04T03:46:51.817Z"
   },
   {
    "duration": 0,
    "start_time": "2025-04-04T03:46:51.818Z"
   },
   {
    "duration": 0,
    "start_time": "2025-04-04T03:46:51.820Z"
   },
   {
    "duration": 0,
    "start_time": "2025-04-04T03:46:51.821Z"
   },
   {
    "duration": 0,
    "start_time": "2025-04-04T03:46:51.822Z"
   },
   {
    "duration": 0,
    "start_time": "2025-04-04T03:46:51.823Z"
   },
   {
    "duration": 0,
    "start_time": "2025-04-04T03:46:51.824Z"
   },
   {
    "duration": 0,
    "start_time": "2025-04-04T03:46:51.825Z"
   },
   {
    "duration": 0,
    "start_time": "2025-04-04T03:46:51.827Z"
   },
   {
    "duration": 0,
    "start_time": "2025-04-04T03:46:51.828Z"
   },
   {
    "duration": 0,
    "start_time": "2025-04-04T03:46:51.829Z"
   },
   {
    "duration": 0,
    "start_time": "2025-04-04T03:46:51.830Z"
   },
   {
    "duration": 0,
    "start_time": "2025-04-04T03:46:51.831Z"
   },
   {
    "duration": 0,
    "start_time": "2025-04-04T03:46:51.832Z"
   },
   {
    "duration": 0,
    "start_time": "2025-04-04T03:46:51.833Z"
   },
   {
    "duration": 0,
    "start_time": "2025-04-04T03:46:51.834Z"
   },
   {
    "duration": 0,
    "start_time": "2025-04-04T03:46:51.834Z"
   },
   {
    "duration": 0,
    "start_time": "2025-04-04T03:46:51.835Z"
   },
   {
    "duration": 0,
    "start_time": "2025-04-04T03:46:51.835Z"
   },
   {
    "duration": 0,
    "start_time": "2025-04-04T03:46:51.836Z"
   },
   {
    "duration": 0,
    "start_time": "2025-04-04T03:46:51.837Z"
   },
   {
    "duration": 14,
    "start_time": "2025-04-04T03:48:00.204Z"
   },
   {
    "duration": 623,
    "start_time": "2025-04-04T03:48:25.304Z"
   },
   {
    "duration": 156,
    "start_time": "2025-04-04T03:48:25.930Z"
   },
   {
    "duration": 10,
    "start_time": "2025-04-04T03:48:26.088Z"
   },
   {
    "duration": 6,
    "start_time": "2025-04-04T03:48:26.100Z"
   },
   {
    "duration": 5,
    "start_time": "2025-04-04T03:48:26.108Z"
   },
   {
    "duration": 9,
    "start_time": "2025-04-04T03:48:26.115Z"
   },
   {
    "duration": 6,
    "start_time": "2025-04-04T03:48:26.126Z"
   },
   {
    "duration": 45,
    "start_time": "2025-04-04T03:48:26.133Z"
   },
   {
    "duration": 4,
    "start_time": "2025-04-04T03:48:26.179Z"
   },
   {
    "duration": 11,
    "start_time": "2025-04-04T03:48:26.186Z"
   },
   {
    "duration": 5,
    "start_time": "2025-04-04T03:48:26.198Z"
   },
   {
    "duration": 14,
    "start_time": "2025-04-04T03:48:26.204Z"
   },
   {
    "duration": 4,
    "start_time": "2025-04-04T03:48:26.220Z"
   },
   {
    "duration": 2,
    "start_time": "2025-04-04T03:48:26.226Z"
   },
   {
    "duration": 2,
    "start_time": "2025-04-04T03:48:26.230Z"
   },
   {
    "duration": 2,
    "start_time": "2025-04-04T03:48:26.271Z"
   },
   {
    "duration": 2,
    "start_time": "2025-04-04T03:48:26.275Z"
   },
   {
    "duration": 2,
    "start_time": "2025-04-04T03:48:26.280Z"
   },
   {
    "duration": 3,
    "start_time": "2025-04-04T03:48:26.283Z"
   },
   {
    "duration": 3,
    "start_time": "2025-04-04T03:48:26.287Z"
   },
   {
    "duration": 3,
    "start_time": "2025-04-04T03:48:26.292Z"
   },
   {
    "duration": 3,
    "start_time": "2025-04-04T03:48:26.297Z"
   },
   {
    "duration": 3,
    "start_time": "2025-04-04T03:48:26.301Z"
   },
   {
    "duration": 3,
    "start_time": "2025-04-04T03:48:26.306Z"
   },
   {
    "duration": 2,
    "start_time": "2025-04-04T03:48:26.311Z"
   },
   {
    "duration": 3,
    "start_time": "2025-04-04T03:48:26.315Z"
   },
   {
    "duration": 3,
    "start_time": "2025-04-04T03:48:26.321Z"
   },
   {
    "duration": 44,
    "start_time": "2025-04-04T03:48:26.327Z"
   },
   {
    "duration": 2,
    "start_time": "2025-04-04T03:48:26.373Z"
   },
   {
    "duration": 637,
    "start_time": "2025-04-04T04:42:14.497Z"
   },
   {
    "duration": 160,
    "start_time": "2025-04-04T04:42:15.135Z"
   },
   {
    "duration": 10,
    "start_time": "2025-04-04T04:42:15.297Z"
   },
   {
    "duration": 7,
    "start_time": "2025-04-04T04:42:15.308Z"
   },
   {
    "duration": 5,
    "start_time": "2025-04-04T04:42:15.318Z"
   },
   {
    "duration": 707,
    "start_time": "2025-04-04T04:42:15.325Z"
   },
   {
    "duration": 0,
    "start_time": "2025-04-04T04:42:16.037Z"
   },
   {
    "duration": 0,
    "start_time": "2025-04-04T04:42:16.038Z"
   },
   {
    "duration": 0,
    "start_time": "2025-04-04T04:42:16.039Z"
   },
   {
    "duration": 0,
    "start_time": "2025-04-04T04:42:16.040Z"
   },
   {
    "duration": 0,
    "start_time": "2025-04-04T04:42:16.041Z"
   },
   {
    "duration": 0,
    "start_time": "2025-04-04T04:42:16.042Z"
   },
   {
    "duration": 0,
    "start_time": "2025-04-04T04:42:16.043Z"
   },
   {
    "duration": 0,
    "start_time": "2025-04-04T04:42:16.044Z"
   },
   {
    "duration": 0,
    "start_time": "2025-04-04T04:42:16.045Z"
   },
   {
    "duration": 0,
    "start_time": "2025-04-04T04:42:16.047Z"
   },
   {
    "duration": 0,
    "start_time": "2025-04-04T04:42:16.047Z"
   },
   {
    "duration": 0,
    "start_time": "2025-04-04T04:42:16.049Z"
   },
   {
    "duration": 0,
    "start_time": "2025-04-04T04:42:16.050Z"
   },
   {
    "duration": 0,
    "start_time": "2025-04-04T04:42:16.070Z"
   },
   {
    "duration": 0,
    "start_time": "2025-04-04T04:42:16.071Z"
   },
   {
    "duration": 0,
    "start_time": "2025-04-04T04:42:16.072Z"
   },
   {
    "duration": 0,
    "start_time": "2025-04-04T04:42:16.073Z"
   },
   {
    "duration": 0,
    "start_time": "2025-04-04T04:42:16.074Z"
   },
   {
    "duration": 0,
    "start_time": "2025-04-04T04:42:16.074Z"
   },
   {
    "duration": 0,
    "start_time": "2025-04-04T04:42:16.075Z"
   },
   {
    "duration": 0,
    "start_time": "2025-04-04T04:42:16.076Z"
   },
   {
    "duration": 0,
    "start_time": "2025-04-04T04:42:16.076Z"
   },
   {
    "duration": 0,
    "start_time": "2025-04-04T04:42:16.077Z"
   },
   {
    "duration": 0,
    "start_time": "2025-04-04T04:42:16.078Z"
   },
   {
    "duration": 607,
    "start_time": "2025-04-04T04:44:17.618Z"
   },
   {
    "duration": 208,
    "start_time": "2025-04-04T04:44:18.228Z"
   },
   {
    "duration": 10,
    "start_time": "2025-04-04T04:44:18.438Z"
   },
   {
    "duration": 22,
    "start_time": "2025-04-04T04:44:18.451Z"
   },
   {
    "duration": 6,
    "start_time": "2025-04-04T04:44:18.475Z"
   },
   {
    "duration": 15,
    "start_time": "2025-04-04T04:44:18.483Z"
   },
   {
    "duration": 13,
    "start_time": "2025-04-04T04:44:18.500Z"
   },
   {
    "duration": 5,
    "start_time": "2025-04-04T04:44:18.515Z"
   },
   {
    "duration": 53,
    "start_time": "2025-04-04T04:44:18.522Z"
   },
   {
    "duration": 5,
    "start_time": "2025-04-04T04:44:18.579Z"
   },
   {
    "duration": 11,
    "start_time": "2025-04-04T04:44:18.587Z"
   },
   {
    "duration": 3,
    "start_time": "2025-04-04T04:44:18.600Z"
   },
   {
    "duration": 14,
    "start_time": "2025-04-04T04:44:18.605Z"
   },
   {
    "duration": 8,
    "start_time": "2025-04-04T04:44:18.621Z"
   },
   {
    "duration": 40,
    "start_time": "2025-04-04T04:44:18.631Z"
   },
   {
    "duration": 3,
    "start_time": "2025-04-04T04:44:18.672Z"
   },
   {
    "duration": 3,
    "start_time": "2025-04-04T04:44:18.677Z"
   },
   {
    "duration": 2,
    "start_time": "2025-04-04T04:44:18.682Z"
   },
   {
    "duration": 3,
    "start_time": "2025-04-04T04:44:18.686Z"
   },
   {
    "duration": 4,
    "start_time": "2025-04-04T04:44:18.690Z"
   },
   {
    "duration": 6,
    "start_time": "2025-04-04T04:44:18.695Z"
   },
   {
    "duration": 2,
    "start_time": "2025-04-04T04:44:18.703Z"
   },
   {
    "duration": 2,
    "start_time": "2025-04-04T04:44:18.707Z"
   },
   {
    "duration": 3,
    "start_time": "2025-04-04T04:44:18.711Z"
   },
   {
    "duration": 6,
    "start_time": "2025-04-04T04:44:18.716Z"
   },
   {
    "duration": 47,
    "start_time": "2025-04-04T04:44:18.724Z"
   },
   {
    "duration": 3,
    "start_time": "2025-04-04T04:44:18.772Z"
   },
   {
    "duration": 2,
    "start_time": "2025-04-04T04:44:18.779Z"
   },
   {
    "duration": 4,
    "start_time": "2025-04-04T04:44:18.782Z"
   },
   {
    "duration": 4,
    "start_time": "2025-04-04T04:44:18.787Z"
   },
   {
    "duration": 14,
    "start_time": "2025-04-04T04:53:41.878Z"
   },
   {
    "duration": 18,
    "start_time": "2025-04-04T04:59:30.724Z"
   },
   {
    "duration": 9,
    "start_time": "2025-04-04T04:59:33.552Z"
   },
   {
    "duration": 28,
    "start_time": "2025-04-04T04:59:53.651Z"
   },
   {
    "duration": 20,
    "start_time": "2025-04-04T05:04:34.090Z"
   },
   {
    "duration": 31,
    "start_time": "2025-04-04T05:07:55.810Z"
   },
   {
    "duration": 57,
    "start_time": "2025-04-04T05:08:04.142Z"
   },
   {
    "duration": 670,
    "start_time": "2025-04-04T05:08:47.082Z"
   },
   {
    "duration": 206,
    "start_time": "2025-04-04T05:08:47.755Z"
   },
   {
    "duration": 12,
    "start_time": "2025-04-04T05:08:47.963Z"
   },
   {
    "duration": 6,
    "start_time": "2025-04-04T05:08:47.977Z"
   },
   {
    "duration": 14,
    "start_time": "2025-04-04T05:08:47.985Z"
   },
   {
    "duration": 13,
    "start_time": "2025-04-04T05:08:48.004Z"
   },
   {
    "duration": 9,
    "start_time": "2025-04-04T05:08:48.019Z"
   },
   {
    "duration": 5,
    "start_time": "2025-04-04T05:08:48.029Z"
   },
   {
    "duration": 46,
    "start_time": "2025-04-04T05:08:48.036Z"
   },
   {
    "duration": 15,
    "start_time": "2025-04-04T05:08:48.086Z"
   },
   {
    "duration": 5,
    "start_time": "2025-04-04T05:08:48.103Z"
   },
   {
    "duration": 28,
    "start_time": "2025-04-04T05:08:48.110Z"
   },
   {
    "duration": 9,
    "start_time": "2025-04-04T05:08:48.170Z"
   },
   {
    "duration": 13,
    "start_time": "2025-04-04T05:08:48.181Z"
   },
   {
    "duration": 3,
    "start_time": "2025-04-04T05:08:48.196Z"
   },
   {
    "duration": 31,
    "start_time": "2025-04-04T05:08:48.201Z"
   },
   {
    "duration": 46,
    "start_time": "2025-04-04T05:08:48.234Z"
   },
   {
    "duration": 5,
    "start_time": "2025-04-04T05:08:48.282Z"
   },
   {
    "duration": 25,
    "start_time": "2025-04-04T05:08:48.289Z"
   },
   {
    "duration": 2,
    "start_time": "2025-04-04T05:08:48.316Z"
   },
   {
    "duration": 3,
    "start_time": "2025-04-04T05:08:48.320Z"
   },
   {
    "duration": 3,
    "start_time": "2025-04-04T05:08:48.325Z"
   },
   {
    "duration": 41,
    "start_time": "2025-04-04T05:08:48.330Z"
   },
   {
    "duration": 3,
    "start_time": "2025-04-04T05:08:48.373Z"
   },
   {
    "duration": 2,
    "start_time": "2025-04-04T05:08:48.378Z"
   },
   {
    "duration": 2,
    "start_time": "2025-04-04T05:08:48.382Z"
   },
   {
    "duration": 2,
    "start_time": "2025-04-04T05:08:48.387Z"
   },
   {
    "duration": 2,
    "start_time": "2025-04-04T05:08:48.394Z"
   },
   {
    "duration": 2,
    "start_time": "2025-04-04T05:08:48.398Z"
   },
   {
    "duration": 4,
    "start_time": "2025-04-04T05:08:48.402Z"
   },
   {
    "duration": 3,
    "start_time": "2025-04-04T05:08:48.408Z"
   },
   {
    "duration": 3,
    "start_time": "2025-04-04T05:08:48.412Z"
   },
   {
    "duration": 51,
    "start_time": "2025-04-04T05:08:48.419Z"
   },
   {
    "duration": 3,
    "start_time": "2025-04-04T05:08:48.472Z"
   },
   {
    "duration": 3,
    "start_time": "2025-04-04T05:08:48.477Z"
   },
   {
    "duration": 4,
    "start_time": "2025-04-04T05:11:20.210Z"
   },
   {
    "duration": 7,
    "start_time": "2025-04-04T05:11:45.595Z"
   },
   {
    "duration": 34,
    "start_time": "2025-04-04T05:13:46.951Z"
   },
   {
    "duration": 13,
    "start_time": "2025-04-04T05:15:07.867Z"
   },
   {
    "duration": 48,
    "start_time": "2025-04-04T05:16:42.257Z"
   },
   {
    "duration": 29,
    "start_time": "2025-04-04T05:17:31.235Z"
   },
   {
    "duration": 32,
    "start_time": "2025-04-04T05:20:22.555Z"
   },
   {
    "duration": 18,
    "start_time": "2025-04-04T05:23:25.910Z"
   },
   {
    "duration": 14,
    "start_time": "2025-04-04T05:24:20.170Z"
   },
   {
    "duration": 17,
    "start_time": "2025-04-04T05:25:55.331Z"
   },
   {
    "duration": 251,
    "start_time": "2025-04-04T05:32:46.380Z"
   },
   {
    "duration": 823,
    "start_time": "2025-04-04T05:32:53.119Z"
   },
   {
    "duration": 227,
    "start_time": "2025-04-04T05:32:53.946Z"
   },
   {
    "duration": 12,
    "start_time": "2025-04-04T05:32:54.175Z"
   },
   {
    "duration": 14,
    "start_time": "2025-04-04T05:32:54.190Z"
   },
   {
    "duration": 6,
    "start_time": "2025-04-04T05:32:54.206Z"
   },
   {
    "duration": 12,
    "start_time": "2025-04-04T05:32:54.213Z"
   },
   {
    "duration": 7,
    "start_time": "2025-04-04T05:32:54.227Z"
   },
   {
    "duration": 33,
    "start_time": "2025-04-04T05:32:54.237Z"
   },
   {
    "duration": 16,
    "start_time": "2025-04-04T05:32:54.272Z"
   },
   {
    "duration": 20,
    "start_time": "2025-04-04T05:32:54.293Z"
   },
   {
    "duration": 4,
    "start_time": "2025-04-04T05:32:54.317Z"
   },
   {
    "duration": 67,
    "start_time": "2025-04-04T05:32:54.323Z"
   },
   {
    "duration": 11,
    "start_time": "2025-04-04T05:32:54.392Z"
   },
   {
    "duration": 15,
    "start_time": "2025-04-04T05:32:54.405Z"
   },
   {
    "duration": 5,
    "start_time": "2025-04-04T05:32:54.422Z"
   },
   {
    "duration": 56,
    "start_time": "2025-04-04T05:32:54.429Z"
   },
   {
    "duration": 16,
    "start_time": "2025-04-04T05:32:54.487Z"
   },
   {
    "duration": 4,
    "start_time": "2025-04-04T05:32:54.506Z"
   },
   {
    "duration": 23,
    "start_time": "2025-04-04T05:32:54.512Z"
   },
   {
    "duration": 34,
    "start_time": "2025-04-04T05:32:54.539Z"
   },
   {
    "duration": 31,
    "start_time": "2025-04-04T05:32:54.574Z"
   },
   {
    "duration": 13,
    "start_time": "2025-04-04T05:32:54.608Z"
   },
   {
    "duration": 18,
    "start_time": "2025-04-04T05:32:54.623Z"
   },
   {
    "duration": 32,
    "start_time": "2025-04-04T05:32:54.671Z"
   },
   {
    "duration": 21,
    "start_time": "2025-04-04T05:32:54.705Z"
   },
   {
    "duration": 9,
    "start_time": "2025-04-04T05:32:54.728Z"
   },
   {
    "duration": 39,
    "start_time": "2025-04-04T05:32:54.739Z"
   },
   {
    "duration": 305,
    "start_time": "2025-04-04T05:32:54.782Z"
   },
   {
    "duration": 3,
    "start_time": "2025-04-04T05:32:55.089Z"
   },
   {
    "duration": 3,
    "start_time": "2025-04-04T05:32:55.094Z"
   },
   {
    "duration": 2,
    "start_time": "2025-04-04T05:32:55.100Z"
   },
   {
    "duration": 3,
    "start_time": "2025-04-04T05:32:55.104Z"
   },
   {
    "duration": 3,
    "start_time": "2025-04-04T05:32:55.109Z"
   },
   {
    "duration": 2,
    "start_time": "2025-04-04T05:32:55.114Z"
   },
   {
    "duration": 3,
    "start_time": "2025-04-04T05:32:55.118Z"
   },
   {
    "duration": 356,
    "start_time": "2025-04-04T05:49:42.537Z"
   },
   {
    "duration": 8,
    "start_time": "2025-04-04T05:51:11.041Z"
   },
   {
    "duration": 190,
    "start_time": "2025-04-04T05:52:04.122Z"
   },
   {
    "duration": 741,
    "start_time": "2025-04-04T05:56:07.144Z"
   },
   {
    "duration": 158,
    "start_time": "2025-04-04T05:56:07.887Z"
   },
   {
    "duration": 9,
    "start_time": "2025-04-04T05:56:08.046Z"
   },
   {
    "duration": 5,
    "start_time": "2025-04-04T05:56:08.058Z"
   },
   {
    "duration": 10,
    "start_time": "2025-04-04T05:56:08.064Z"
   },
   {
    "duration": 14,
    "start_time": "2025-04-04T05:56:08.076Z"
   },
   {
    "duration": 8,
    "start_time": "2025-04-04T05:56:08.092Z"
   },
   {
    "duration": 5,
    "start_time": "2025-04-04T05:56:08.102Z"
   },
   {
    "duration": 13,
    "start_time": "2025-04-04T05:56:08.109Z"
   },
   {
    "duration": 16,
    "start_time": "2025-04-04T05:56:08.170Z"
   },
   {
    "duration": 5,
    "start_time": "2025-04-04T05:56:08.188Z"
   },
   {
    "duration": 26,
    "start_time": "2025-04-04T05:56:08.194Z"
   },
   {
    "duration": 9,
    "start_time": "2025-04-04T05:56:08.222Z"
   },
   {
    "duration": 45,
    "start_time": "2025-04-04T05:56:08.233Z"
   },
   {
    "duration": 4,
    "start_time": "2025-04-04T05:56:08.280Z"
   },
   {
    "duration": 19,
    "start_time": "2025-04-04T05:56:08.285Z"
   },
   {
    "duration": 14,
    "start_time": "2025-04-04T05:56:08.306Z"
   },
   {
    "duration": 4,
    "start_time": "2025-04-04T05:56:08.322Z"
   },
   {
    "duration": 61,
    "start_time": "2025-04-04T05:56:08.328Z"
   },
   {
    "duration": 5,
    "start_time": "2025-04-04T05:56:08.391Z"
   },
   {
    "duration": 24,
    "start_time": "2025-04-04T05:56:08.398Z"
   },
   {
    "duration": 46,
    "start_time": "2025-04-04T05:56:08.424Z"
   },
   {
    "duration": 18,
    "start_time": "2025-04-04T05:56:08.472Z"
   },
   {
    "duration": 21,
    "start_time": "2025-04-04T05:56:08.492Z"
   },
   {
    "duration": 17,
    "start_time": "2025-04-04T05:56:08.515Z"
   },
   {
    "duration": 36,
    "start_time": "2025-04-04T05:56:08.534Z"
   },
   {
    "duration": 13,
    "start_time": "2025-04-04T05:56:08.572Z"
   },
   {
    "duration": 284,
    "start_time": "2025-04-04T05:56:08.588Z"
   },
   {
    "duration": 398,
    "start_time": "2025-04-04T05:56:08.874Z"
   },
   {
    "duration": 8,
    "start_time": "2025-04-04T05:56:09.274Z"
   },
   {
    "duration": 216,
    "start_time": "2025-04-04T05:56:09.283Z"
   },
   {
    "duration": 3,
    "start_time": "2025-04-04T05:56:09.501Z"
   },
   {
    "duration": 2,
    "start_time": "2025-04-04T05:56:09.506Z"
   },
   {
    "duration": 3,
    "start_time": "2025-04-04T05:56:09.510Z"
   },
   {
    "duration": 2,
    "start_time": "2025-04-04T05:56:09.515Z"
   },
   {
    "duration": 316,
    "start_time": "2025-04-04T06:00:13.475Z"
   },
   {
    "duration": 8,
    "start_time": "2025-04-04T06:03:13.326Z"
   },
   {
    "duration": 173,
    "start_time": "2025-04-04T06:04:41.531Z"
   },
   {
    "duration": 324,
    "start_time": "2025-04-04T06:08:33.158Z"
   },
   {
    "duration": 7,
    "start_time": "2025-04-04T06:09:19.134Z"
   },
   {
    "duration": 222,
    "start_time": "2025-04-04T06:09:32.767Z"
   },
   {
    "duration": 8,
    "start_time": "2025-04-04T06:13:50.310Z"
   },
   {
    "duration": 192,
    "start_time": "2025-04-04T06:14:06.405Z"
   },
   {
    "duration": 2,
    "start_time": "2025-04-04T06:14:50.691Z"
   },
   {
    "duration": 384,
    "start_time": "2025-04-04T06:15:16.490Z"
   },
   {
    "duration": 217,
    "start_time": "2025-04-04T06:20:45.197Z"
   },
   {
    "duration": 3,
    "start_time": "2025-04-04T06:21:11.947Z"
   },
   {
    "duration": 812,
    "start_time": "2025-04-04T06:21:25.508Z"
   },
   {
    "duration": 161,
    "start_time": "2025-04-04T06:21:26.322Z"
   },
   {
    "duration": 9,
    "start_time": "2025-04-04T06:21:26.484Z"
   },
   {
    "duration": 6,
    "start_time": "2025-04-04T06:21:26.496Z"
   },
   {
    "duration": 5,
    "start_time": "2025-04-04T06:21:26.504Z"
   },
   {
    "duration": 12,
    "start_time": "2025-04-04T06:21:26.511Z"
   },
   {
    "duration": 8,
    "start_time": "2025-04-04T06:21:26.525Z"
   },
   {
    "duration": 6,
    "start_time": "2025-04-04T06:21:26.571Z"
   },
   {
    "duration": 11,
    "start_time": "2025-04-04T06:21:26.579Z"
   },
   {
    "duration": 15,
    "start_time": "2025-04-04T06:21:26.595Z"
   },
   {
    "duration": 4,
    "start_time": "2025-04-04T06:21:26.612Z"
   },
   {
    "duration": 66,
    "start_time": "2025-04-04T06:21:26.618Z"
   },
   {
    "duration": 9,
    "start_time": "2025-04-04T06:21:26.686Z"
   },
   {
    "duration": 12,
    "start_time": "2025-04-04T06:21:26.696Z"
   },
   {
    "duration": 4,
    "start_time": "2025-04-04T06:21:26.710Z"
   },
   {
    "duration": 19,
    "start_time": "2025-04-04T06:21:26.716Z"
   },
   {
    "duration": 50,
    "start_time": "2025-04-04T06:21:26.737Z"
   },
   {
    "duration": 6,
    "start_time": "2025-04-04T06:21:26.790Z"
   },
   {
    "duration": 22,
    "start_time": "2025-04-04T06:21:26.798Z"
   },
   {
    "duration": 7,
    "start_time": "2025-04-04T06:21:26.822Z"
   },
   {
    "duration": 63,
    "start_time": "2025-04-04T06:21:26.830Z"
   },
   {
    "duration": 14,
    "start_time": "2025-04-04T06:21:26.895Z"
   },
   {
    "duration": 18,
    "start_time": "2025-04-04T06:21:26.912Z"
   },
   {
    "duration": 42,
    "start_time": "2025-04-04T06:21:26.932Z"
   },
   {
    "duration": 16,
    "start_time": "2025-04-04T06:21:26.976Z"
   },
   {
    "duration": 8,
    "start_time": "2025-04-04T06:21:26.994Z"
   },
   {
    "duration": 15,
    "start_time": "2025-04-04T06:21:27.003Z"
   },
   {
    "duration": 349,
    "start_time": "2025-04-04T06:21:27.021Z"
   },
   {
    "duration": 407,
    "start_time": "2025-04-04T06:21:27.372Z"
   },
   {
    "duration": 9,
    "start_time": "2025-04-04T06:21:27.781Z"
   },
   {
    "duration": 221,
    "start_time": "2025-04-04T06:21:27.792Z"
   },
   {
    "duration": 352,
    "start_time": "2025-04-04T06:21:28.014Z"
   },
   {
    "duration": 10,
    "start_time": "2025-04-04T06:21:28.367Z"
   },
   {
    "duration": 222,
    "start_time": "2025-04-04T06:21:28.378Z"
   },
   {
    "duration": 338,
    "start_time": "2025-04-04T06:21:28.602Z"
   },
   {
    "duration": 10,
    "start_time": "2025-04-04T06:21:28.942Z"
   },
   {
    "duration": 247,
    "start_time": "2025-04-04T06:21:28.954Z"
   },
   {
    "duration": 347,
    "start_time": "2025-04-04T06:21:29.203Z"
   },
   {
    "duration": 18,
    "start_time": "2025-04-04T06:21:29.552Z"
   },
   {
    "duration": 239,
    "start_time": "2025-04-04T06:21:29.572Z"
   },
   {
    "duration": 6,
    "start_time": "2025-04-04T06:21:29.813Z"
   },
   {
    "duration": 50,
    "start_time": "2025-04-04T06:21:29.820Z"
   },
   {
    "duration": 734,
    "start_time": "2025-04-04T06:33:25.664Z"
   },
   {
    "duration": 158,
    "start_time": "2025-04-04T06:33:26.400Z"
   },
   {
    "duration": 10,
    "start_time": "2025-04-04T06:33:26.560Z"
   },
   {
    "duration": 7,
    "start_time": "2025-04-04T06:33:26.573Z"
   },
   {
    "duration": 7,
    "start_time": "2025-04-04T06:33:26.582Z"
   },
   {
    "duration": 10,
    "start_time": "2025-04-04T06:33:26.592Z"
   },
   {
    "duration": 9,
    "start_time": "2025-04-04T06:33:26.604Z"
   },
   {
    "duration": 5,
    "start_time": "2025-04-04T06:33:26.614Z"
   },
   {
    "duration": 58,
    "start_time": "2025-04-04T06:33:26.621Z"
   },
   {
    "duration": 16,
    "start_time": "2025-04-04T06:33:26.682Z"
   },
   {
    "duration": 4,
    "start_time": "2025-04-04T06:33:26.700Z"
   },
   {
    "duration": 26,
    "start_time": "2025-04-04T06:33:26.706Z"
   },
   {
    "duration": 44,
    "start_time": "2025-04-04T06:33:26.734Z"
   },
   {
    "duration": 15,
    "start_time": "2025-04-04T06:33:26.780Z"
   },
   {
    "duration": 4,
    "start_time": "2025-04-04T06:33:26.798Z"
   },
   {
    "duration": 20,
    "start_time": "2025-04-04T06:33:26.804Z"
   },
   {
    "duration": 47,
    "start_time": "2025-04-04T06:33:26.826Z"
   },
   {
    "duration": 4,
    "start_time": "2025-04-04T06:33:26.875Z"
   },
   {
    "duration": 24,
    "start_time": "2025-04-04T06:33:26.880Z"
   },
   {
    "duration": 6,
    "start_time": "2025-04-04T06:33:26.905Z"
   },
   {
    "duration": 24,
    "start_time": "2025-04-04T06:33:26.912Z"
   },
   {
    "duration": 12,
    "start_time": "2025-04-04T06:33:26.970Z"
   },
   {
    "duration": 18,
    "start_time": "2025-04-04T06:33:26.984Z"
   },
   {
    "duration": 22,
    "start_time": "2025-04-04T06:33:27.003Z"
   },
   {
    "duration": 49,
    "start_time": "2025-04-04T06:33:27.027Z"
   },
   {
    "duration": 8,
    "start_time": "2025-04-04T06:33:27.078Z"
   },
   {
    "duration": 15,
    "start_time": "2025-04-04T06:33:27.087Z"
   },
   {
    "duration": 341,
    "start_time": "2025-04-04T06:33:27.107Z"
   },
   {
    "duration": 369,
    "start_time": "2025-04-04T06:33:27.450Z"
   },
   {
    "duration": 8,
    "start_time": "2025-04-04T06:33:27.821Z"
   },
   {
    "duration": 251,
    "start_time": "2025-04-04T06:33:27.831Z"
   },
   {
    "duration": 320,
    "start_time": "2025-04-04T06:33:28.084Z"
   },
   {
    "duration": 10,
    "start_time": "2025-04-04T06:33:28.405Z"
   },
   {
    "duration": 193,
    "start_time": "2025-04-04T06:33:28.417Z"
   },
   {
    "duration": 370,
    "start_time": "2025-04-04T06:33:28.612Z"
   },
   {
    "duration": 8,
    "start_time": "2025-04-04T06:33:28.983Z"
   },
   {
    "duration": 211,
    "start_time": "2025-04-04T06:33:28.993Z"
   },
   {
    "duration": 359,
    "start_time": "2025-04-04T06:33:29.206Z"
   },
   {
    "duration": 9,
    "start_time": "2025-04-04T06:33:29.570Z"
   },
   {
    "duration": 303,
    "start_time": "2025-04-04T06:33:29.580Z"
   },
   {
    "duration": 7,
    "start_time": "2025-04-04T06:33:29.884Z"
   },
   {
    "duration": 3,
    "start_time": "2025-04-04T06:33:29.892Z"
   },
   {
    "duration": 13,
    "start_time": "2025-04-04T06:34:12.691Z"
   }
  ],
  "colab": {
   "provenance": []
  },
  "kernelspec": {
   "display_name": "Python 3 (ipykernel)",
   "language": "python",
   "name": "python3"
  },
  "language_info": {
   "codemirror_mode": {
    "name": "ipython",
    "version": 3
   },
   "file_extension": ".py",
   "mimetype": "text/x-python",
   "name": "python",
   "nbconvert_exporter": "python",
   "pygments_lexer": "ipython3",
   "version": "3.9.19"
  },
  "toc": {
   "base_numbering": 1,
   "nav_menu": {},
   "number_sections": true,
   "sideBar": true,
   "skip_h1_title": false,
   "title_cell": "Table of Contents",
   "title_sidebar": "Contents",
   "toc_cell": false,
   "toc_position": {},
   "toc_section_display": true,
   "toc_window_display": true
  }
 },
 "nbformat": 4,
 "nbformat_minor": 1
}
